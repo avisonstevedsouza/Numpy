{
 "cells": [
  {
   "cell_type": "code",
   "execution_count": 1,
   "id": "b7161ea8",
   "metadata": {
    "_cell_guid": "b1076dfc-b9ad-4769-8c92-a6c4dae69d19",
    "_uuid": "8f2839f25d086af736a60e9eeb907d3b93b6e0e5",
    "execution": {
     "iopub.execute_input": "2024-10-09T09:47:30.647057Z",
     "iopub.status.busy": "2024-10-09T09:47:30.646342Z",
     "iopub.status.idle": "2024-10-09T09:47:31.717217Z",
     "shell.execute_reply": "2024-10-09T09:47:31.715874Z"
    },
    "papermill": {
     "duration": 1.08094,
     "end_time": "2024-10-09T09:47:31.720743",
     "exception": false,
     "start_time": "2024-10-09T09:47:30.639803",
     "status": "completed"
    },
    "tags": []
   },
   "outputs": [],
   "source": [
    "# This Python 3 environment comes with many helpful analytics libraries installed\n",
    "# It is defined by the kaggle/python Docker image: https://github.com/kaggle/docker-python\n",
    "# For example, here's several helpful packages to load\n",
    "\n",
    "import numpy as np # linear algebra\n",
    "import pandas as pd # data processing, CSV file I/O (e.g. pd.read_csv)\n",
    "\n",
    "# Input data files are available in the read-only \"../input/\" directory\n",
    "# For example, running this (by clicking run or pressing Shift+Enter) will list all files under the input directory\n",
    "\n",
    "import os\n",
    "for dirname, _, filenames in os.walk('/kaggle/input'):\n",
    "    for filename in filenames:\n",
    "        print(os.path.join(dirname, filename))\n",
    "\n",
    "# You can write up to 20GB to the current directory (/kaggle/working/) that gets preserved as output when you create a version using \"Save & Run All\" \n",
    "# You can also write temporary files to /kaggle/temp/, but they won't be saved outside of the current session"
   ]
  },
  {
   "cell_type": "code",
   "execution_count": 2,
   "id": "0f2a1c2a",
   "metadata": {
    "execution": {
     "iopub.execute_input": "2024-10-09T09:47:31.730500Z",
     "iopub.status.busy": "2024-10-09T09:47:31.729767Z",
     "iopub.status.idle": "2024-10-09T09:47:31.736129Z",
     "shell.execute_reply": "2024-10-09T09:47:31.734800Z"
    },
    "papermill": {
     "duration": 0.014328,
     "end_time": "2024-10-09T09:47:31.739157",
     "exception": false,
     "start_time": "2024-10-09T09:47:31.724829",
     "status": "completed"
    },
    "tags": []
   },
   "outputs": [],
   "source": [
    "import pandas as pd"
   ]
  },
  {
   "cell_type": "code",
   "execution_count": 3,
   "id": "ac2d2a81",
   "metadata": {
    "execution": {
     "iopub.execute_input": "2024-10-09T09:47:31.747910Z",
     "iopub.status.busy": "2024-10-09T09:47:31.747436Z",
     "iopub.status.idle": "2024-10-09T09:47:31.756468Z",
     "shell.execute_reply": "2024-10-09T09:47:31.755275Z"
    },
    "papermill": {
     "duration": 0.016574,
     "end_time": "2024-10-09T09:47:31.759184",
     "exception": false,
     "start_time": "2024-10-09T09:47:31.742610",
     "status": "completed"
    },
    "tags": []
   },
   "outputs": [
    {
     "data": {
      "text/plain": [
       "'2.2.3'"
      ]
     },
     "execution_count": 3,
     "metadata": {},
     "output_type": "execute_result"
    }
   ],
   "source": [
    "pd.__version__"
   ]
  },
  {
   "cell_type": "code",
   "execution_count": 4,
   "id": "23f2468d",
   "metadata": {
    "execution": {
     "iopub.execute_input": "2024-10-09T09:47:31.767667Z",
     "iopub.status.busy": "2024-10-09T09:47:31.767208Z",
     "iopub.status.idle": "2024-10-09T09:47:31.774398Z",
     "shell.execute_reply": "2024-10-09T09:47:31.772929Z"
    },
    "papermill": {
     "duration": 0.015454,
     "end_time": "2024-10-09T09:47:31.777973",
     "exception": false,
     "start_time": "2024-10-09T09:47:31.762519",
     "status": "completed"
    },
    "tags": []
   },
   "outputs": [
    {
     "name": "stdout",
     "output_type": "stream",
     "text": [
      "[1, 2, 3, 4, 5, 6]\n"
     ]
    }
   ],
   "source": [
    "lst=[1,2,3,4,5,6]\n",
    "print(lst)"
   ]
  },
  {
   "cell_type": "code",
   "execution_count": 5,
   "id": "c0a6b8de",
   "metadata": {
    "execution": {
     "iopub.execute_input": "2024-10-09T09:47:31.787101Z",
     "iopub.status.busy": "2024-10-09T09:47:31.786449Z",
     "iopub.status.idle": "2024-10-09T09:47:31.796843Z",
     "shell.execute_reply": "2024-10-09T09:47:31.795481Z"
    },
    "papermill": {
     "duration": 0.018016,
     "end_time": "2024-10-09T09:47:31.799414",
     "exception": false,
     "start_time": "2024-10-09T09:47:31.781398",
     "status": "completed"
    },
    "tags": []
   },
   "outputs": [
    {
     "name": "stdout",
     "output_type": "stream",
     "text": [
      "0    1\n",
      "1    2\n",
      "2    3\n",
      "3    4\n",
      "4    5\n",
      "5    6\n",
      "dtype: int64\n",
      "<class 'pandas.core.series.Series'>\n"
     ]
    }
   ],
   "source": [
    "series=pd.Series(lst)\n",
    "print(series)\n",
    "print(type(series))"
   ]
  },
  {
   "cell_type": "code",
   "execution_count": null,
   "id": "3fb74e59",
   "metadata": {
    "papermill": {
     "duration": 0.003112,
     "end_time": "2024-10-09T09:47:31.806078",
     "exception": false,
     "start_time": "2024-10-09T09:47:31.802966",
     "status": "completed"
    },
    "tags": []
   },
   "outputs": [],
   "source": []
  }
 ],
 "metadata": {
  "kaggle": {
   "accelerator": "none",
   "dataSources": [],
   "dockerImageVersionId": 30786,
   "isGpuEnabled": false,
   "isInternetEnabled": true,
   "language": "python",
   "sourceType": "notebook"
  },
  "kernelspec": {
   "display_name": "Python 3",
   "language": "python",
   "name": "python3"
  },
  "language_info": {
   "codemirror_mode": {
    "name": "ipython",
    "version": 3
   },
   "file_extension": ".py",
   "mimetype": "text/x-python",
   "name": "python",
   "nbconvert_exporter": "python",
   "pygments_lexer": "ipython3",
   "version": "3.10.14"
  },
  "papermill": {
   "default_parameters": {},
   "duration": 5.780219,
   "end_time": "2024-10-09T09:47:32.534727",
   "environment_variables": {},
   "exception": null,
   "input_path": "__notebook__.ipynb",
   "output_path": "__notebook__.ipynb",
   "parameters": {},
   "start_time": "2024-10-09T09:47:26.754508",
   "version": "2.6.0"
  }
 },
 "nbformat": 4,
 "nbformat_minor": 5
}
