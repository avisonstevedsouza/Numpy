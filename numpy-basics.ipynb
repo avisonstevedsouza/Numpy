{
 "cells": [
  {
   "cell_type": "code",
   "execution_count": 1,
   "id": "151b7ce6",
   "metadata": {
    "_cell_guid": "b1076dfc-b9ad-4769-8c92-a6c4dae69d19",
    "_uuid": "8f2839f25d086af736a60e9eeb907d3b93b6e0e5",
    "execution": {
     "iopub.execute_input": "2024-10-09T09:57:39.236887Z",
     "iopub.status.busy": "2024-10-09T09:57:39.235781Z",
     "iopub.status.idle": "2024-10-09T09:57:40.111558Z",
     "shell.execute_reply": "2024-10-09T09:57:40.110418Z"
    },
    "papermill": {
     "duration": 0.910767,
     "end_time": "2024-10-09T09:57:40.114387",
     "exception": false,
     "start_time": "2024-10-09T09:57:39.203620",
     "status": "completed"
    },
    "tags": []
   },
   "outputs": [],
   "source": [
    "# This Python 3 environment comes with many helpful analytics libraries installed\n",
    "# It is defined by the kaggle/python Docker image: https://github.com/kaggle/docker-python\n",
    "# For example, here's several helpful packages to load\n",
    "\n",
    "import numpy as np # linear algebra\n",
    "import pandas as pd # data processing, CSV file I/O (e.g. pd.read_csv)\n",
    "\n",
    "# Input data files are available in the read-only \"../input/\" directory\n",
    "# For example, running this (by clicking run or pressing Shift+Enter) will list all files under the input directory\n",
    "\n",
    "import os\n",
    "for dirname, _, filenames in os.walk('/kaggle/input'):\n",
    "    for filename in filenames:\n",
    "        print(os.path.join(dirname, filename))\n",
    "\n",
    "# You can write up to 20GB to the current directory (/kaggle/working/) that gets preserved as output when you create a version using \"Save & Run All\" \n",
    "# You can also write temporary files to /kaggle/temp/, but they won't be saved outside of the current session"
   ]
  },
  {
   "cell_type": "code",
   "execution_count": 2,
   "id": "163958a5",
   "metadata": {
    "execution": {
     "iopub.execute_input": "2024-10-09T09:57:40.172202Z",
     "iopub.status.busy": "2024-10-09T09:57:40.171088Z",
     "iopub.status.idle": "2024-10-09T09:57:40.176918Z",
     "shell.execute_reply": "2024-10-09T09:57:40.175967Z"
    },
    "papermill": {
     "duration": 0.037076,
     "end_time": "2024-10-09T09:57:40.179352",
     "exception": false,
     "start_time": "2024-10-09T09:57:40.142276",
     "status": "completed"
    },
    "tags": []
   },
   "outputs": [],
   "source": [
    "import numpy as np"
   ]
  },
  {
   "cell_type": "code",
   "execution_count": 3,
   "id": "025bae16",
   "metadata": {
    "execution": {
     "iopub.execute_input": "2024-10-09T09:57:40.236823Z",
     "iopub.status.busy": "2024-10-09T09:57:40.236423Z",
     "iopub.status.idle": "2024-10-09T09:57:40.246589Z",
     "shell.execute_reply": "2024-10-09T09:57:40.245428Z"
    },
    "papermill": {
     "duration": 0.041742,
     "end_time": "2024-10-09T09:57:40.249154",
     "exception": false,
     "start_time": "2024-10-09T09:57:40.207412",
     "status": "completed"
    },
    "tags": []
   },
   "outputs": [
    {
     "data": {
      "text/plain": [
       "array([[4.74056730e-310, 0.00000000e+000],\n",
       "       [4.74056764e-310, 4.74056764e-310]])"
      ]
     },
     "execution_count": 3,
     "metadata": {},
     "output_type": "execute_result"
    }
   ],
   "source": [
    "np.empty((2,2),dtype=float)"
   ]
  },
  {
   "cell_type": "code",
   "execution_count": 4,
   "id": "8310cf5c",
   "metadata": {
    "execution": {
     "iopub.execute_input": "2024-10-09T09:57:40.305923Z",
     "iopub.status.busy": "2024-10-09T09:57:40.305541Z",
     "iopub.status.idle": "2024-10-09T09:57:40.312114Z",
     "shell.execute_reply": "2024-10-09T09:57:40.310974Z"
    },
    "papermill": {
     "duration": 0.038201,
     "end_time": "2024-10-09T09:57:40.315088",
     "exception": false,
     "start_time": "2024-10-09T09:57:40.276887",
     "status": "completed"
    },
    "tags": []
   },
   "outputs": [
    {
     "name": "stdout",
     "output_type": "stream",
     "text": [
      "3-D array\n",
      "[[[1 2 3]\n",
      "  [4 5 6]\n",
      "  [7 8 9]]]\n"
     ]
    }
   ],
   "source": [
    "print('3-D array')\n",
    "a=np.array([[[1,2,3],[4,5,6],[7,8,9]]])\n",
    "print(a)"
   ]
  },
  {
   "cell_type": "code",
   "execution_count": 5,
   "id": "7de1ad17",
   "metadata": {
    "execution": {
     "iopub.execute_input": "2024-10-09T09:57:40.373021Z",
     "iopub.status.busy": "2024-10-09T09:57:40.372090Z",
     "iopub.status.idle": "2024-10-09T09:57:40.377887Z",
     "shell.execute_reply": "2024-10-09T09:57:40.376836Z"
    },
    "papermill": {
     "duration": 0.038019,
     "end_time": "2024-10-09T09:57:40.380769",
     "exception": false,
     "start_time": "2024-10-09T09:57:40.342750",
     "status": "completed"
    },
    "tags": []
   },
   "outputs": [
    {
     "name": "stdout",
     "output_type": "stream",
     "text": [
      "[1. 1. 1. 1. 1. 1.]\n"
     ]
    }
   ],
   "source": [
    "x=np.ones(6)\n",
    "print(x)"
   ]
  },
  {
   "cell_type": "code",
   "execution_count": 6,
   "id": "ead5c3f6",
   "metadata": {
    "execution": {
     "iopub.execute_input": "2024-10-09T09:57:40.438339Z",
     "iopub.status.busy": "2024-10-09T09:57:40.437460Z",
     "iopub.status.idle": "2024-10-09T09:57:40.443718Z",
     "shell.execute_reply": "2024-10-09T09:57:40.442686Z"
    },
    "papermill": {
     "duration": 0.037626,
     "end_time": "2024-10-09T09:57:40.446058",
     "exception": false,
     "start_time": "2024-10-09T09:57:40.408432",
     "status": "completed"
    },
    "tags": []
   },
   "outputs": [
    {
     "name": "stdout",
     "output_type": "stream",
     "text": [
      "[[1. 1. 1. 1. 1.]\n",
      " [1. 1. 1. 1. 1.]\n",
      " [1. 1. 1. 1. 1.]]\n"
     ]
    }
   ],
   "source": [
    "x=np.ones((3,5))\n",
    "print(x)"
   ]
  },
  {
   "cell_type": "code",
   "execution_count": 7,
   "id": "ef354761",
   "metadata": {
    "execution": {
     "iopub.execute_input": "2024-10-09T09:57:40.503151Z",
     "iopub.status.busy": "2024-10-09T09:57:40.502330Z",
     "iopub.status.idle": "2024-10-09T09:57:40.508055Z",
     "shell.execute_reply": "2024-10-09T09:57:40.507089Z"
    },
    "papermill": {
     "duration": 0.037134,
     "end_time": "2024-10-09T09:57:40.510852",
     "exception": false,
     "start_time": "2024-10-09T09:57:40.473718",
     "status": "completed"
    },
    "tags": []
   },
   "outputs": [
    {
     "name": "stdout",
     "output_type": "stream",
     "text": [
      "[[1 1 1 1 1]\n",
      " [1 1 1 1 1]\n",
      " [1 1 1 1 1]]\n"
     ]
    }
   ],
   "source": [
    "x=np.ones((3,5),dtype=int)\n",
    "print(x)"
   ]
  },
  {
   "cell_type": "code",
   "execution_count": 8,
   "id": "15b7a1dd",
   "metadata": {
    "execution": {
     "iopub.execute_input": "2024-10-09T09:57:40.569514Z",
     "iopub.status.busy": "2024-10-09T09:57:40.568659Z",
     "iopub.status.idle": "2024-10-09T09:57:40.575025Z",
     "shell.execute_reply": "2024-10-09T09:57:40.573871Z"
    },
    "papermill": {
     "duration": 0.039226,
     "end_time": "2024-10-09T09:57:40.578149",
     "exception": false,
     "start_time": "2024-10-09T09:57:40.538923",
     "status": "completed"
    },
    "tags": []
   },
   "outputs": [
    {
     "name": "stdout",
     "output_type": "stream",
     "text": [
      "[[1 1 1 1 1]\n",
      " [1 1 1 1 1]\n",
      " [1 1 1 1 1]]\n"
     ]
    }
   ],
   "source": [
    "x=np.ones((3,5),dtype=int)\n",
    "print(x)"
   ]
  },
  {
   "cell_type": "code",
   "execution_count": 9,
   "id": "c52858a5",
   "metadata": {
    "execution": {
     "iopub.execute_input": "2024-10-09T09:57:40.635653Z",
     "iopub.status.busy": "2024-10-09T09:57:40.635266Z",
     "iopub.status.idle": "2024-10-09T09:57:40.642444Z",
     "shell.execute_reply": "2024-10-09T09:57:40.641382Z"
    },
    "papermill": {
     "duration": 0.038873,
     "end_time": "2024-10-09T09:57:40.644756",
     "exception": false,
     "start_time": "2024-10-09T09:57:40.605883",
     "status": "completed"
    },
    "tags": []
   },
   "outputs": [
    {
     "data": {
      "text/plain": [
       "array([0., 0., 0., 0., 0., 0., 0., 0., 0.])"
      ]
     },
     "execution_count": 9,
     "metadata": {},
     "output_type": "execute_result"
    }
   ],
   "source": [
    "np.zeros(9)"
   ]
  },
  {
   "cell_type": "code",
   "execution_count": 10,
   "id": "64b18b74",
   "metadata": {
    "execution": {
     "iopub.execute_input": "2024-10-09T09:57:40.703825Z",
     "iopub.status.busy": "2024-10-09T09:57:40.703449Z",
     "iopub.status.idle": "2024-10-09T09:57:40.710655Z",
     "shell.execute_reply": "2024-10-09T09:57:40.709578Z"
    },
    "papermill": {
     "duration": 0.039872,
     "end_time": "2024-10-09T09:57:40.713089",
     "exception": false,
     "start_time": "2024-10-09T09:57:40.673217",
     "status": "completed"
    },
    "tags": []
   },
   "outputs": [
    {
     "data": {
      "text/plain": [
       "array([[0., 0., 0., 0., 0.],\n",
       "       [0., 0., 0., 0., 0.],\n",
       "       [0., 0., 0., 0., 0.]])"
      ]
     },
     "execution_count": 10,
     "metadata": {},
     "output_type": "execute_result"
    }
   ],
   "source": [
    "np.zeros((3,5))"
   ]
  },
  {
   "cell_type": "code",
   "execution_count": 11,
   "id": "ff8d26da",
   "metadata": {
    "execution": {
     "iopub.execute_input": "2024-10-09T09:57:40.772186Z",
     "iopub.status.busy": "2024-10-09T09:57:40.771422Z",
     "iopub.status.idle": "2024-10-09T09:57:40.777687Z",
     "shell.execute_reply": "2024-10-09T09:57:40.776764Z"
    },
    "papermill": {
     "duration": 0.039088,
     "end_time": "2024-10-09T09:57:40.780449",
     "exception": false,
     "start_time": "2024-10-09T09:57:40.741361",
     "status": "completed"
    },
    "tags": []
   },
   "outputs": [
    {
     "name": "stdout",
     "output_type": "stream",
     "text": [
      "[[0. 0. 0. 0. 0.]\n",
      " [0. 0. 0. 0. 0.]\n",
      " [0. 0. 0. 0. 0.]]\n"
     ]
    }
   ],
   "source": [
    "z=np.zeros((3,5))\n",
    "print(z)"
   ]
  },
  {
   "cell_type": "code",
   "execution_count": 12,
   "id": "5c55b932",
   "metadata": {
    "execution": {
     "iopub.execute_input": "2024-10-09T09:57:40.838164Z",
     "iopub.status.busy": "2024-10-09T09:57:40.837739Z",
     "iopub.status.idle": "2024-10-09T09:57:40.843907Z",
     "shell.execute_reply": "2024-10-09T09:57:40.842893Z"
    },
    "papermill": {
     "duration": 0.038033,
     "end_time": "2024-10-09T09:57:40.846341",
     "exception": false,
     "start_time": "2024-10-09T09:57:40.808308",
     "status": "completed"
    },
    "tags": []
   },
   "outputs": [
    {
     "name": "stdout",
     "output_type": "stream",
     "text": [
      "[[0 0 0 0 0]\n",
      " [0 0 0 0 0]\n",
      " [0 0 0 0 0]]\n"
     ]
    }
   ],
   "source": [
    "z=np.zeros((3,5),dtype=int)\n",
    "print(z)"
   ]
  },
  {
   "cell_type": "code",
   "execution_count": 13,
   "id": "75930d2a",
   "metadata": {
    "execution": {
     "iopub.execute_input": "2024-10-09T09:57:40.904722Z",
     "iopub.status.busy": "2024-10-09T09:57:40.904301Z",
     "iopub.status.idle": "2024-10-09T09:57:40.910225Z",
     "shell.execute_reply": "2024-10-09T09:57:40.909276Z"
    },
    "papermill": {
     "duration": 0.038156,
     "end_time": "2024-10-09T09:57:40.912812",
     "exception": false,
     "start_time": "2024-10-09T09:57:40.874656",
     "status": "completed"
    },
    "tags": []
   },
   "outputs": [
    {
     "name": "stdout",
     "output_type": "stream",
     "text": [
      "[['1' '1' '1' '1' '1']\n",
      " ['1' '1' '1' '1' '1']\n",
      " ['1' '1' '1' '1' '1']]\n"
     ]
    }
   ],
   "source": [
    "z=np.ones((3,5),dtype=str)\n",
    "print(z)"
   ]
  },
  {
   "cell_type": "code",
   "execution_count": 14,
   "id": "1ff1c1f1",
   "metadata": {
    "execution": {
     "iopub.execute_input": "2024-10-09T09:57:40.971677Z",
     "iopub.status.busy": "2024-10-09T09:57:40.971265Z",
     "iopub.status.idle": "2024-10-09T09:57:40.977334Z",
     "shell.execute_reply": "2024-10-09T09:57:40.976242Z"
    },
    "papermill": {
     "duration": 0.038471,
     "end_time": "2024-10-09T09:57:40.979822",
     "exception": false,
     "start_time": "2024-10-09T09:57:40.941351",
     "status": "completed"
    },
    "tags": []
   },
   "outputs": [
    {
     "name": "stdout",
     "output_type": "stream",
     "text": [
      "[[ True  True  True  True  True]\n",
      " [ True  True  True  True  True]\n",
      " [ True  True  True  True  True]]\n"
     ]
    }
   ],
   "source": [
    "z=np.ones((3,5),dtype=bool)\n",
    "print(z)"
   ]
  },
  {
   "cell_type": "code",
   "execution_count": 15,
   "id": "8ea182cd",
   "metadata": {
    "execution": {
     "iopub.execute_input": "2024-10-09T09:57:41.038920Z",
     "iopub.status.busy": "2024-10-09T09:57:41.038505Z",
     "iopub.status.idle": "2024-10-09T09:57:41.044255Z",
     "shell.execute_reply": "2024-10-09T09:57:41.043304Z"
    },
    "papermill": {
     "duration": 0.038264,
     "end_time": "2024-10-09T09:57:41.046866",
     "exception": false,
     "start_time": "2024-10-09T09:57:41.008602",
     "status": "completed"
    },
    "tags": []
   },
   "outputs": [
    {
     "name": "stdout",
     "output_type": "stream",
     "text": [
      "[[False False False False False]\n",
      " [False False False False False]\n",
      " [False False False False False]]\n"
     ]
    }
   ],
   "source": [
    "z=np.zeros((3,5),dtype=bool)\n",
    "print(z)"
   ]
  },
  {
   "cell_type": "markdown",
   "id": "f51b9362",
   "metadata": {
    "papermill": {
     "duration": 0.028516,
     "end_time": "2024-10-09T09:57:41.103991",
     "exception": false,
     "start_time": "2024-10-09T09:57:41.075475",
     "status": "completed"
    },
    "tags": []
   },
   "source": [
    "***Part-3***"
   ]
  },
  {
   "cell_type": "code",
   "execution_count": 16,
   "id": "b9af5306",
   "metadata": {
    "execution": {
     "iopub.execute_input": "2024-10-09T09:57:41.162974Z",
     "iopub.status.busy": "2024-10-09T09:57:41.162547Z",
     "iopub.status.idle": "2024-10-09T09:57:41.167214Z",
     "shell.execute_reply": "2024-10-09T09:57:41.166125Z"
    },
    "papermill": {
     "duration": 0.037066,
     "end_time": "2024-10-09T09:57:41.169620",
     "exception": false,
     "start_time": "2024-10-09T09:57:41.132554",
     "status": "completed"
    },
    "tags": []
   },
   "outputs": [],
   "source": [
    "import numpy as np"
   ]
  },
  {
   "cell_type": "code",
   "execution_count": 17,
   "id": "7a51c7a7",
   "metadata": {
    "execution": {
     "iopub.execute_input": "2024-10-09T09:57:41.230217Z",
     "iopub.status.busy": "2024-10-09T09:57:41.229038Z",
     "iopub.status.idle": "2024-10-09T09:57:41.234797Z",
     "shell.execute_reply": "2024-10-09T09:57:41.233851Z"
    },
    "papermill": {
     "duration": 0.039039,
     "end_time": "2024-10-09T09:57:41.238190",
     "exception": false,
     "start_time": "2024-10-09T09:57:41.199151",
     "status": "completed"
    },
    "tags": []
   },
   "outputs": [
    {
     "name": "stdout",
     "output_type": "stream",
     "text": [
      "[ 1  2  3  4  5  6  7  8  9 10 11 12 13 14 15 16 17 18 19 20]\n"
     ]
    }
   ],
   "source": [
    "a=np.arange(1,21)\n",
    "print(a)"
   ]
  },
  {
   "cell_type": "code",
   "execution_count": 18,
   "id": "6f2cc885",
   "metadata": {
    "execution": {
     "iopub.execute_input": "2024-10-09T09:57:41.298964Z",
     "iopub.status.busy": "2024-10-09T09:57:41.298534Z",
     "iopub.status.idle": "2024-10-09T09:57:41.304073Z",
     "shell.execute_reply": "2024-10-09T09:57:41.303079Z"
    },
    "papermill": {
     "duration": 0.039922,
     "end_time": "2024-10-09T09:57:41.306888",
     "exception": false,
     "start_time": "2024-10-09T09:57:41.266966",
     "status": "completed"
    },
    "tags": []
   },
   "outputs": [
    {
     "name": "stdout",
     "output_type": "stream",
     "text": [
      "[ 1  2  3  4  5  6  7  8  9 10 11 12 13 14 15 16 17 18 19]\n"
     ]
    }
   ],
   "source": [
    "a=np.arange(1,20)\n",
    "print(a)"
   ]
  },
  {
   "cell_type": "markdown",
   "id": "82091714",
   "metadata": {
    "papermill": {
     "duration": 0.028723,
     "end_time": "2024-10-09T09:57:41.365389",
     "exception": false,
     "start_time": "2024-10-09T09:57:41.336666",
     "status": "completed"
    },
    "tags": []
   },
   "source": [
    "***Odd numbers***"
   ]
  },
  {
   "cell_type": "code",
   "execution_count": 19,
   "id": "bfccf326",
   "metadata": {
    "execution": {
     "iopub.execute_input": "2024-10-09T09:57:41.425629Z",
     "iopub.status.busy": "2024-10-09T09:57:41.425114Z",
     "iopub.status.idle": "2024-10-09T09:57:41.431335Z",
     "shell.execute_reply": "2024-10-09T09:57:41.430279Z"
    },
    "papermill": {
     "duration": 0.039368,
     "end_time": "2024-10-09T09:57:41.433591",
     "exception": false,
     "start_time": "2024-10-09T09:57:41.394223",
     "status": "completed"
    },
    "tags": []
   },
   "outputs": [
    {
     "name": "stdout",
     "output_type": "stream",
     "text": [
      "[ 1  3  5  7  9 11 13 15 17 19]\n"
     ]
    }
   ],
   "source": [
    "a=np.arange(1,21,2)\n",
    "print(a)"
   ]
  },
  {
   "cell_type": "markdown",
   "id": "b48bb2e9",
   "metadata": {
    "papermill": {
     "duration": 0.02857,
     "end_time": "2024-10-09T09:57:41.491171",
     "exception": false,
     "start_time": "2024-10-09T09:57:41.462601",
     "status": "completed"
    },
    "tags": []
   },
   "source": [
    "***Even numbers***"
   ]
  },
  {
   "cell_type": "code",
   "execution_count": 20,
   "id": "59887af1",
   "metadata": {
    "execution": {
     "iopub.execute_input": "2024-10-09T09:57:41.550986Z",
     "iopub.status.busy": "2024-10-09T09:57:41.550077Z",
     "iopub.status.idle": "2024-10-09T09:57:41.556320Z",
     "shell.execute_reply": "2024-10-09T09:57:41.555173Z"
    },
    "papermill": {
     "duration": 0.038851,
     "end_time": "2024-10-09T09:57:41.558917",
     "exception": false,
     "start_time": "2024-10-09T09:57:41.520066",
     "status": "completed"
    },
    "tags": []
   },
   "outputs": [
    {
     "name": "stdout",
     "output_type": "stream",
     "text": [
      "[ 2  4  6  8 10 12 14 16 18]\n"
     ]
    }
   ],
   "source": [
    "a=np.arange(2,20,2)\n",
    "print(a)"
   ]
  },
  {
   "cell_type": "markdown",
   "id": "066cb83c",
   "metadata": {
    "papermill": {
     "duration": 0.028566,
     "end_time": "2024-10-09T09:57:41.616452",
     "exception": false,
     "start_time": "2024-10-09T09:57:41.587886",
     "status": "completed"
    },
    "tags": []
   },
   "source": [
    "***Reshaping***"
   ]
  },
  {
   "cell_type": "code",
   "execution_count": 21,
   "id": "8c5a616d",
   "metadata": {
    "execution": {
     "iopub.execute_input": "2024-10-09T09:57:41.678050Z",
     "iopub.status.busy": "2024-10-09T09:57:41.677118Z",
     "iopub.status.idle": "2024-10-09T09:57:41.682948Z",
     "shell.execute_reply": "2024-10-09T09:57:41.681931Z"
    },
    "papermill": {
     "duration": 0.039449,
     "end_time": "2024-10-09T09:57:41.685887",
     "exception": false,
     "start_time": "2024-10-09T09:57:41.646438",
     "status": "completed"
    },
    "tags": []
   },
   "outputs": [
    {
     "name": "stdout",
     "output_type": "stream",
     "text": [
      "[[ 2  4  6]\n",
      " [ 8 10 12]\n",
      " [14 16 18]]\n"
     ]
    }
   ],
   "source": [
    "a=a.reshape((3,3))\n",
    "print(a)"
   ]
  },
  {
   "cell_type": "code",
   "execution_count": 22,
   "id": "5288b62e",
   "metadata": {
    "execution": {
     "iopub.execute_input": "2024-10-09T09:57:41.747934Z",
     "iopub.status.busy": "2024-10-09T09:57:41.746961Z",
     "iopub.status.idle": "2024-10-09T09:57:41.753187Z",
     "shell.execute_reply": "2024-10-09T09:57:41.752137Z"
    },
    "papermill": {
     "duration": 0.039248,
     "end_time": "2024-10-09T09:57:41.755683",
     "exception": false,
     "start_time": "2024-10-09T09:57:41.716435",
     "status": "completed"
    },
    "tags": []
   },
   "outputs": [
    {
     "name": "stdout",
     "output_type": "stream",
     "text": [
      "[ 1  3  5  7  9 11 13 15 17 19 21 23 25 27 29 31 33 35 37 39 41 43 45 47\n",
      " 49 51 53 55 57 59 61 63 65 67 69 71 73 75 77 79 81 83 85 87 89 91 93 95\n",
      " 97 99]\n"
     ]
    }
   ],
   "source": [
    "b=np.arange(1,100,2)\n",
    "print(b)"
   ]
  },
  {
   "cell_type": "code",
   "execution_count": 23,
   "id": "e70226ad",
   "metadata": {
    "execution": {
     "iopub.execute_input": "2024-10-09T09:57:41.816829Z",
     "iopub.status.busy": "2024-10-09T09:57:41.816404Z",
     "iopub.status.idle": "2024-10-09T09:57:41.822717Z",
     "shell.execute_reply": "2024-10-09T09:57:41.821640Z"
    },
    "papermill": {
     "duration": 0.039721,
     "end_time": "2024-10-09T09:57:41.825198",
     "exception": false,
     "start_time": "2024-10-09T09:57:41.785477",
     "status": "completed"
    },
    "tags": []
   },
   "outputs": [
    {
     "name": "stdout",
     "output_type": "stream",
     "text": [
      "[[ 1  3  5  7  9]\n",
      " [11 13 15 17 19]\n",
      " [21 23 25 27 29]\n",
      " [31 33 35 37 39]\n",
      " [41 43 45 47 49]\n",
      " [51 53 55 57 59]\n",
      " [61 63 65 67 69]\n",
      " [71 73 75 77 79]\n",
      " [81 83 85 87 89]\n",
      " [91 93 95 97 99]]\n"
     ]
    }
   ],
   "source": [
    "b=b.reshape((10,5))\n",
    "print(b)"
   ]
  },
  {
   "cell_type": "code",
   "execution_count": 24,
   "id": "ebd875ad",
   "metadata": {
    "execution": {
     "iopub.execute_input": "2024-10-09T09:57:41.886057Z",
     "iopub.status.busy": "2024-10-09T09:57:41.885106Z",
     "iopub.status.idle": "2024-10-09T09:57:41.891172Z",
     "shell.execute_reply": "2024-10-09T09:57:41.890141Z"
    },
    "papermill": {
     "duration": 0.039011,
     "end_time": "2024-10-09T09:57:41.893628",
     "exception": false,
     "start_time": "2024-10-09T09:57:41.854617",
     "status": "completed"
    },
    "tags": []
   },
   "outputs": [
    {
     "name": "stdout",
     "output_type": "stream",
     "text": [
      "[ 1  3  5  7  9 11 13 15 17 19 21 23 25 27 29 31 33 35 37 39 41 43 45 47\n",
      " 49 51 53 55 57 59 61 63 65 67 69 71 73 75 77 79 81 83 85 87 89 91 93 95\n",
      " 97 99]\n"
     ]
    }
   ],
   "source": [
    "b=b.flatten()\n",
    "print(b)"
   ]
  },
  {
   "cell_type": "code",
   "execution_count": 25,
   "id": "1f91de8e",
   "metadata": {
    "execution": {
     "iopub.execute_input": "2024-10-09T09:57:41.954933Z",
     "iopub.status.busy": "2024-10-09T09:57:41.954539Z",
     "iopub.status.idle": "2024-10-09T09:57:41.960171Z",
     "shell.execute_reply": "2024-10-09T09:57:41.959081Z"
    },
    "papermill": {
     "duration": 0.039527,
     "end_time": "2024-10-09T09:57:41.963082",
     "exception": false,
     "start_time": "2024-10-09T09:57:41.923555",
     "status": "completed"
    },
    "tags": []
   },
   "outputs": [
    {
     "name": "stdout",
     "output_type": "stream",
     "text": [
      "[ 2  4  6  8 10 12 14 16 18]\n"
     ]
    }
   ],
   "source": [
    "a=a.ravel()\n",
    "print(a)"
   ]
  },
  {
   "cell_type": "markdown",
   "id": "33e7823d",
   "metadata": {
    "papermill": {
     "duration": 0.028876,
     "end_time": "2024-10-09T09:57:42.021740",
     "exception": false,
     "start_time": "2024-10-09T09:57:41.992864",
     "status": "completed"
    },
    "tags": []
   },
   "source": [
    "***Part-4***"
   ]
  },
  {
   "cell_type": "code",
   "execution_count": 26,
   "id": "d45f118a",
   "metadata": {
    "execution": {
     "iopub.execute_input": "2024-10-09T09:57:42.082393Z",
     "iopub.status.busy": "2024-10-09T09:57:42.081937Z",
     "iopub.status.idle": "2024-10-09T09:57:42.086535Z",
     "shell.execute_reply": "2024-10-09T09:57:42.085438Z"
    },
    "papermill": {
     "duration": 0.037514,
     "end_time": "2024-10-09T09:57:42.088818",
     "exception": false,
     "start_time": "2024-10-09T09:57:42.051304",
     "status": "completed"
    },
    "tags": []
   },
   "outputs": [],
   "source": [
    "import numpy as np"
   ]
  },
  {
   "cell_type": "code",
   "execution_count": 27,
   "id": "5cdaa856",
   "metadata": {
    "execution": {
     "iopub.execute_input": "2024-10-09T09:57:42.149885Z",
     "iopub.status.busy": "2024-10-09T09:57:42.149192Z",
     "iopub.status.idle": "2024-10-09T09:57:42.155509Z",
     "shell.execute_reply": "2024-10-09T09:57:42.154233Z"
    },
    "papermill": {
     "duration": 0.039958,
     "end_time": "2024-10-09T09:57:42.158395",
     "exception": false,
     "start_time": "2024-10-09T09:57:42.118437",
     "status": "completed"
    },
    "tags": []
   },
   "outputs": [
    {
     "name": "stdout",
     "output_type": "stream",
     "text": [
      "[ 1  2  3  4  5  6  7  8  9 10 11 12 13 14 15 16 17 18 19 20 21 22 23 24\n",
      " 25 26 27 28 29 30 31 32 33 34 35 36 37 38 39 40 41 42 43 44 45 46 47 48\n",
      " 49 50]\n"
     ]
    }
   ],
   "source": [
    "a=np.arange(1,51)\n",
    "print(a)"
   ]
  },
  {
   "cell_type": "code",
   "execution_count": 28,
   "id": "f785a744",
   "metadata": {
    "execution": {
     "iopub.execute_input": "2024-10-09T09:57:42.219596Z",
     "iopub.status.busy": "2024-10-09T09:57:42.219190Z",
     "iopub.status.idle": "2024-10-09T09:57:42.225563Z",
     "shell.execute_reply": "2024-10-09T09:57:42.224424Z"
    },
    "papermill": {
     "duration": 0.040105,
     "end_time": "2024-10-09T09:57:42.228250",
     "exception": false,
     "start_time": "2024-10-09T09:57:42.188145",
     "status": "completed"
    },
    "tags": []
   },
   "outputs": [
    {
     "name": "stdout",
     "output_type": "stream",
     "text": [
      "[[ 1  2  3  4  5]\n",
      " [ 6  7  8  9 10]\n",
      " [11 12 13 14 15]\n",
      " [16 17 18 19 20]\n",
      " [21 22 23 24 25]\n",
      " [26 27 28 29 30]\n",
      " [31 32 33 34 35]\n",
      " [36 37 38 39 40]\n",
      " [41 42 43 44 45]\n",
      " [46 47 48 49 50]]\n"
     ]
    }
   ],
   "source": [
    "a=a.reshape((10,5))\n",
    "print(a)"
   ]
  },
  {
   "cell_type": "code",
   "execution_count": 29,
   "id": "321e5c07",
   "metadata": {
    "execution": {
     "iopub.execute_input": "2024-10-09T09:57:42.291512Z",
     "iopub.status.busy": "2024-10-09T09:57:42.290612Z",
     "iopub.status.idle": "2024-10-09T09:57:42.297696Z",
     "shell.execute_reply": "2024-10-09T09:57:42.296665Z"
    },
    "papermill": {
     "duration": 0.041318,
     "end_time": "2024-10-09T09:57:42.300718",
     "exception": false,
     "start_time": "2024-10-09T09:57:42.259400",
     "status": "completed"
    },
    "tags": []
   },
   "outputs": [
    {
     "data": {
      "text/plain": [
       "array([15, 20, 25])"
      ]
     },
     "execution_count": 29,
     "metadata": {},
     "output_type": "execute_result"
    }
   ],
   "source": [
    "a[2:5,4]"
   ]
  },
  {
   "cell_type": "code",
   "execution_count": 30,
   "id": "c1089ce6",
   "metadata": {
    "execution": {
     "iopub.execute_input": "2024-10-09T09:57:42.362796Z",
     "iopub.status.busy": "2024-10-09T09:57:42.362392Z",
     "iopub.status.idle": "2024-10-09T09:57:42.370034Z",
     "shell.execute_reply": "2024-10-09T09:57:42.368948Z"
    },
    "papermill": {
     "duration": 0.041526,
     "end_time": "2024-10-09T09:57:42.372398",
     "exception": false,
     "start_time": "2024-10-09T09:57:42.330872",
     "status": "completed"
    },
    "tags": []
   },
   "outputs": [
    {
     "data": {
      "text/plain": [
       "array([ 3,  8, 13, 18, 23, 28, 33, 38, 43, 48])"
      ]
     },
     "execution_count": 30,
     "metadata": {},
     "output_type": "execute_result"
    }
   ],
   "source": [
    "a[:,2]"
   ]
  },
  {
   "cell_type": "code",
   "execution_count": 31,
   "id": "92a42c97",
   "metadata": {
    "execution": {
     "iopub.execute_input": "2024-10-09T09:57:42.434548Z",
     "iopub.status.busy": "2024-10-09T09:57:42.434118Z",
     "iopub.status.idle": "2024-10-09T09:57:42.441761Z",
     "shell.execute_reply": "2024-10-09T09:57:42.440761Z"
    },
    "papermill": {
     "duration": 0.041536,
     "end_time": "2024-10-09T09:57:42.444126",
     "exception": false,
     "start_time": "2024-10-09T09:57:42.402590",
     "status": "completed"
    },
    "tags": []
   },
   "outputs": [
    {
     "data": {
      "text/plain": [
       "array([[ 1,  2,  3,  4,  5],\n",
       "       [ 6,  7,  8,  9, 10],\n",
       "       [11, 12, 13, 14, 15],\n",
       "       [16, 17, 18, 19, 20],\n",
       "       [21, 22, 23, 24, 25],\n",
       "       [26, 27, 28, 29, 30],\n",
       "       [31, 32, 33, 34, 35],\n",
       "       [36, 37, 38, 39, 40],\n",
       "       [41, 42, 43, 44, 45],\n",
       "       [46, 47, 48, 49, 50]])"
      ]
     },
     "execution_count": 31,
     "metadata": {},
     "output_type": "execute_result"
    }
   ],
   "source": [
    "a[:,]"
   ]
  },
  {
   "cell_type": "code",
   "execution_count": 32,
   "id": "bb966ca4",
   "metadata": {
    "execution": {
     "iopub.execute_input": "2024-10-09T09:57:42.506959Z",
     "iopub.status.busy": "2024-10-09T09:57:42.506242Z",
     "iopub.status.idle": "2024-10-09T09:57:42.513158Z",
     "shell.execute_reply": "2024-10-09T09:57:42.512210Z"
    },
    "papermill": {
     "duration": 0.041128,
     "end_time": "2024-10-09T09:57:42.515755",
     "exception": false,
     "start_time": "2024-10-09T09:57:42.474627",
     "status": "completed"
    },
    "tags": []
   },
   "outputs": [
    {
     "data": {
      "text/plain": [
       "dtype('int64')"
      ]
     },
     "execution_count": 32,
     "metadata": {},
     "output_type": "execute_result"
    }
   ],
   "source": [
    "a[3:6,2:5].dtype"
   ]
  },
  {
   "cell_type": "markdown",
   "id": "047656f7",
   "metadata": {
    "papermill": {
     "duration": 0.030065,
     "end_time": "2024-10-09T09:57:42.576318",
     "exception": false,
     "start_time": "2024-10-09T09:57:42.546253",
     "status": "completed"
    },
    "tags": []
   },
   "source": [
    "***Part-5***"
   ]
  },
  {
   "cell_type": "code",
   "execution_count": 33,
   "id": "1f20d62f",
   "metadata": {
    "execution": {
     "iopub.execute_input": "2024-10-09T09:57:42.638509Z",
     "iopub.status.busy": "2024-10-09T09:57:42.638088Z",
     "iopub.status.idle": "2024-10-09T09:57:42.645668Z",
     "shell.execute_reply": "2024-10-09T09:57:42.644459Z"
    },
    "papermill": {
     "duration": 0.041708,
     "end_time": "2024-10-09T09:57:42.648220",
     "exception": false,
     "start_time": "2024-10-09T09:57:42.606512",
     "status": "completed"
    },
    "tags": []
   },
   "outputs": [
    {
     "name": "stdout",
     "output_type": "stream",
     "text": [
      "[[ 0  1  2]\n",
      " [ 3  4  5]\n",
      " [ 6  7  8]\n",
      " [ 9 10 11]\n",
      " [12 13 14]\n",
      " [15 16 17]]\n",
      "[[20 21 22]\n",
      " [23 24 25]\n",
      " [26 27 28]\n",
      " [29 30 31]\n",
      " [32 33 34]\n",
      " [35 36 37]]\n"
     ]
    }
   ],
   "source": [
    "import numpy as np\n",
    "a=np.arange(0,18).reshape((6,3))\n",
    "b=np.arange(20,38).reshape((6,3))\n",
    "print(a)\n",
    "print(b)"
   ]
  },
  {
   "cell_type": "code",
   "execution_count": 34,
   "id": "449a190b",
   "metadata": {
    "execution": {
     "iopub.execute_input": "2024-10-09T09:57:42.712705Z",
     "iopub.status.busy": "2024-10-09T09:57:42.712320Z",
     "iopub.status.idle": "2024-10-09T09:57:42.719605Z",
     "shell.execute_reply": "2024-10-09T09:57:42.718522Z"
    },
    "papermill": {
     "duration": 0.043329,
     "end_time": "2024-10-09T09:57:42.722422",
     "exception": false,
     "start_time": "2024-10-09T09:57:42.679093",
     "status": "completed"
    },
    "tags": []
   },
   "outputs": [
    {
     "name": "stdout",
     "output_type": "stream",
     "text": [
      "[[  0  21  44]\n",
      " [ 69  96 125]\n",
      " [156 189 224]\n",
      " [261 300 341]\n",
      " [384 429 476]\n",
      " [525 576 629]]\n"
     ]
    }
   ],
   "source": [
    "print(a*b)"
   ]
  },
  {
   "cell_type": "code",
   "execution_count": 35,
   "id": "e6bd13c9",
   "metadata": {
    "execution": {
     "iopub.execute_input": "2024-10-09T09:57:42.785743Z",
     "iopub.status.busy": "2024-10-09T09:57:42.785238Z",
     "iopub.status.idle": "2024-10-09T09:57:42.792423Z",
     "shell.execute_reply": "2024-10-09T09:57:42.791363Z"
    },
    "papermill": {
     "duration": 0.041657,
     "end_time": "2024-10-09T09:57:42.794858",
     "exception": false,
     "start_time": "2024-10-09T09:57:42.753201",
     "status": "completed"
    },
    "tags": []
   },
   "outputs": [
    {
     "data": {
      "text/plain": [
       "array([[20, 22, 24],\n",
       "       [26, 28, 30],\n",
       "       [32, 34, 36],\n",
       "       [38, 40, 42],\n",
       "       [44, 46, 48],\n",
       "       [50, 52, 54]])"
      ]
     },
     "execution_count": 35,
     "metadata": {},
     "output_type": "execute_result"
    }
   ],
   "source": [
    "a+b"
   ]
  },
  {
   "cell_type": "code",
   "execution_count": 36,
   "id": "e451647a",
   "metadata": {
    "execution": {
     "iopub.execute_input": "2024-10-09T09:57:42.858847Z",
     "iopub.status.busy": "2024-10-09T09:57:42.858454Z",
     "iopub.status.idle": "2024-10-09T09:57:42.865844Z",
     "shell.execute_reply": "2024-10-09T09:57:42.864795Z"
    },
    "papermill": {
     "duration": 0.042153,
     "end_time": "2024-10-09T09:57:42.868146",
     "exception": false,
     "start_time": "2024-10-09T09:57:42.825993",
     "status": "completed"
    },
    "tags": []
   },
   "outputs": [
    {
     "data": {
      "text/plain": [
       "array([[20, 22, 24],\n",
       "       [26, 28, 30],\n",
       "       [32, 34, 36],\n",
       "       [38, 40, 42],\n",
       "       [44, 46, 48],\n",
       "       [50, 52, 54]])"
      ]
     },
     "execution_count": 36,
     "metadata": {},
     "output_type": "execute_result"
    }
   ],
   "source": [
    "np.add(a,b)"
   ]
  },
  {
   "cell_type": "code",
   "execution_count": 37,
   "id": "9d740fc4",
   "metadata": {
    "execution": {
     "iopub.execute_input": "2024-10-09T09:57:42.987529Z",
     "iopub.status.busy": "2024-10-09T09:57:42.986487Z",
     "iopub.status.idle": "2024-10-09T09:57:42.994028Z",
     "shell.execute_reply": "2024-10-09T09:57:42.992958Z"
    },
    "papermill": {
     "duration": 0.097146,
     "end_time": "2024-10-09T09:57:42.996397",
     "exception": false,
     "start_time": "2024-10-09T09:57:42.899251",
     "status": "completed"
    },
    "tags": []
   },
   "outputs": [
    {
     "data": {
      "text/plain": [
       "array([[-20, -20, -20],\n",
       "       [-20, -20, -20],\n",
       "       [-20, -20, -20],\n",
       "       [-20, -20, -20],\n",
       "       [-20, -20, -20],\n",
       "       [-20, -20, -20]])"
      ]
     },
     "execution_count": 37,
     "metadata": {},
     "output_type": "execute_result"
    }
   ],
   "source": [
    "np.subtract(a,b)"
   ]
  },
  {
   "cell_type": "code",
   "execution_count": 38,
   "id": "99b4fd1d",
   "metadata": {
    "execution": {
     "iopub.execute_input": "2024-10-09T09:57:43.060930Z",
     "iopub.status.busy": "2024-10-09T09:57:43.060515Z",
     "iopub.status.idle": "2024-10-09T09:57:43.067729Z",
     "shell.execute_reply": "2024-10-09T09:57:43.066717Z"
    },
    "papermill": {
     "duration": 0.042188,
     "end_time": "2024-10-09T09:57:43.070131",
     "exception": false,
     "start_time": "2024-10-09T09:57:43.027943",
     "status": "completed"
    },
    "tags": []
   },
   "outputs": [
    {
     "data": {
      "text/plain": [
       "array([[  0,  21,  44],\n",
       "       [ 69,  96, 125],\n",
       "       [156, 189, 224],\n",
       "       [261, 300, 341],\n",
       "       [384, 429, 476],\n",
       "       [525, 576, 629]])"
      ]
     },
     "execution_count": 38,
     "metadata": {},
     "output_type": "execute_result"
    }
   ],
   "source": [
    "np.multiply(a,b)"
   ]
  },
  {
   "cell_type": "code",
   "execution_count": 39,
   "id": "58265d2a",
   "metadata": {
    "execution": {
     "iopub.execute_input": "2024-10-09T09:57:43.134303Z",
     "iopub.status.busy": "2024-10-09T09:57:43.133838Z",
     "iopub.status.idle": "2024-10-09T09:57:43.141398Z",
     "shell.execute_reply": "2024-10-09T09:57:43.140347Z"
    },
    "papermill": {
     "duration": 0.042619,
     "end_time": "2024-10-09T09:57:43.143957",
     "exception": false,
     "start_time": "2024-10-09T09:57:43.101338",
     "status": "completed"
    },
    "tags": []
   },
   "outputs": [
    {
     "data": {
      "text/plain": [
       "array([[0.        , 0.04761905, 0.09090909],\n",
       "       [0.13043478, 0.16666667, 0.2       ],\n",
       "       [0.23076923, 0.25925926, 0.28571429],\n",
       "       [0.31034483, 0.33333333, 0.35483871],\n",
       "       [0.375     , 0.39393939, 0.41176471],\n",
       "       [0.42857143, 0.44444444, 0.45945946]])"
      ]
     },
     "execution_count": 39,
     "metadata": {},
     "output_type": "execute_result"
    }
   ],
   "source": [
    "np.divide(a,b)"
   ]
  },
  {
   "cell_type": "code",
   "execution_count": 40,
   "id": "7189cd5f",
   "metadata": {
    "execution": {
     "iopub.execute_input": "2024-10-09T09:57:43.208553Z",
     "iopub.status.busy": "2024-10-09T09:57:43.208124Z",
     "iopub.status.idle": "2024-10-09T09:57:43.213897Z",
     "shell.execute_reply": "2024-10-09T09:57:43.212811Z"
    },
    "papermill": {
     "duration": 0.040902,
     "end_time": "2024-10-09T09:57:43.216505",
     "exception": false,
     "start_time": "2024-10-09T09:57:43.175603",
     "status": "completed"
    },
    "tags": []
   },
   "outputs": [
    {
     "name": "stdout",
     "output_type": "stream",
     "text": [
      "(6, 3)\n",
      "(6, 3)\n"
     ]
    }
   ],
   "source": [
    "print(a.shape)\n",
    "print(b.shape)"
   ]
  },
  {
   "cell_type": "code",
   "execution_count": 41,
   "id": "2d0a651e",
   "metadata": {
    "execution": {
     "iopub.execute_input": "2024-10-09T09:57:43.282957Z",
     "iopub.status.busy": "2024-10-09T09:57:43.282019Z",
     "iopub.status.idle": "2024-10-09T09:57:43.287095Z",
     "shell.execute_reply": "2024-10-09T09:57:43.286079Z"
    },
    "papermill": {
     "duration": 0.041108,
     "end_time": "2024-10-09T09:57:43.289351",
     "exception": false,
     "start_time": "2024-10-09T09:57:43.248243",
     "status": "completed"
    },
    "tags": []
   },
   "outputs": [],
   "source": [
    "b=b.reshape((3,6))"
   ]
  },
  {
   "cell_type": "code",
   "execution_count": 42,
   "id": "05e98e5c",
   "metadata": {
    "execution": {
     "iopub.execute_input": "2024-10-09T09:57:43.354924Z",
     "iopub.status.busy": "2024-10-09T09:57:43.353989Z",
     "iopub.status.idle": "2024-10-09T09:57:43.360817Z",
     "shell.execute_reply": "2024-10-09T09:57:43.359888Z"
    },
    "papermill": {
     "duration": 0.042395,
     "end_time": "2024-10-09T09:57:43.363454",
     "exception": false,
     "start_time": "2024-10-09T09:57:43.321059",
     "status": "completed"
    },
    "tags": []
   },
   "outputs": [
    {
     "data": {
      "text/plain": [
       "array([[  90,   93,   96,   99,  102,  105],\n",
       "       [ 324,  336,  348,  360,  372,  384],\n",
       "       [ 558,  579,  600,  621,  642,  663],\n",
       "       [ 792,  822,  852,  882,  912,  942],\n",
       "       [1026, 1065, 1104, 1143, 1182, 1221],\n",
       "       [1260, 1308, 1356, 1404, 1452, 1500]])"
      ]
     },
     "execution_count": 42,
     "metadata": {},
     "output_type": "execute_result"
    }
   ],
   "source": [
    "a@b"
   ]
  },
  {
   "cell_type": "code",
   "execution_count": 43,
   "id": "ec1ba424",
   "metadata": {
    "execution": {
     "iopub.execute_input": "2024-10-09T09:57:43.427860Z",
     "iopub.status.busy": "2024-10-09T09:57:43.427433Z",
     "iopub.status.idle": "2024-10-09T09:57:43.433272Z",
     "shell.execute_reply": "2024-10-09T09:57:43.432218Z"
    },
    "papermill": {
     "duration": 0.041681,
     "end_time": "2024-10-09T09:57:43.436332",
     "exception": false,
     "start_time": "2024-10-09T09:57:43.394651",
     "status": "completed"
    },
    "tags": []
   },
   "outputs": [
    {
     "name": "stdout",
     "output_type": "stream",
     "text": [
      "[[20 21 22 23 24 25]\n",
      " [26 27 28 29 30 31]\n",
      " [32 33 34 35 36 37]]\n"
     ]
    }
   ],
   "source": [
    "print(b)"
   ]
  },
  {
   "cell_type": "code",
   "execution_count": 44,
   "id": "faf3bce5",
   "metadata": {
    "execution": {
     "iopub.execute_input": "2024-10-09T09:57:43.501069Z",
     "iopub.status.busy": "2024-10-09T09:57:43.500626Z",
     "iopub.status.idle": "2024-10-09T09:57:43.506433Z",
     "shell.execute_reply": "2024-10-09T09:57:43.505300Z"
    },
    "papermill": {
     "duration": 0.040455,
     "end_time": "2024-10-09T09:57:43.508898",
     "exception": false,
     "start_time": "2024-10-09T09:57:43.468443",
     "status": "completed"
    },
    "tags": []
   },
   "outputs": [
    {
     "name": "stdout",
     "output_type": "stream",
     "text": [
      "37\n",
      "20\n"
     ]
    }
   ],
   "source": [
    "print(b.max())\n",
    "print(b.min())"
   ]
  },
  {
   "cell_type": "code",
   "execution_count": 45,
   "id": "77092761",
   "metadata": {
    "execution": {
     "iopub.execute_input": "2024-10-09T09:57:43.574814Z",
     "iopub.status.busy": "2024-10-09T09:57:43.574065Z",
     "iopub.status.idle": "2024-10-09T09:57:43.582373Z",
     "shell.execute_reply": "2024-10-09T09:57:43.581276Z"
    },
    "papermill": {
     "duration": 0.044248,
     "end_time": "2024-10-09T09:57:43.584806",
     "exception": false,
     "start_time": "2024-10-09T09:57:43.540558",
     "status": "completed"
    },
    "tags": []
   },
   "outputs": [
    {
     "data": {
      "text/plain": [
       "17"
      ]
     },
     "execution_count": 45,
     "metadata": {},
     "output_type": "execute_result"
    }
   ],
   "source": [
    "b.argmax()"
   ]
  },
  {
   "cell_type": "code",
   "execution_count": 46,
   "id": "6df92594",
   "metadata": {
    "execution": {
     "iopub.execute_input": "2024-10-09T09:57:43.650814Z",
     "iopub.status.busy": "2024-10-09T09:57:43.649653Z",
     "iopub.status.idle": "2024-10-09T09:57:43.657014Z",
     "shell.execute_reply": "2024-10-09T09:57:43.655968Z"
    },
    "papermill": {
     "duration": 0.043168,
     "end_time": "2024-10-09T09:57:43.659431",
     "exception": false,
     "start_time": "2024-10-09T09:57:43.616263",
     "status": "completed"
    },
    "tags": []
   },
   "outputs": [
    {
     "data": {
      "text/plain": [
       "513"
      ]
     },
     "execution_count": 46,
     "metadata": {},
     "output_type": "execute_result"
    }
   ],
   "source": [
    "np.sum(b)"
   ]
  },
  {
   "cell_type": "markdown",
   "id": "21dceb03",
   "metadata": {
    "papermill": {
     "duration": 0.03298,
     "end_time": "2024-10-09T09:57:43.724620",
     "exception": false,
     "start_time": "2024-10-09T09:57:43.691640",
     "status": "completed"
    },
    "tags": []
   },
   "source": [
    "***Sum of row***"
   ]
  },
  {
   "cell_type": "code",
   "execution_count": 47,
   "id": "047d7850",
   "metadata": {
    "execution": {
     "iopub.execute_input": "2024-10-09T09:57:43.791557Z",
     "iopub.status.busy": "2024-10-09T09:57:43.790617Z",
     "iopub.status.idle": "2024-10-09T09:57:43.797848Z",
     "shell.execute_reply": "2024-10-09T09:57:43.796837Z"
    },
    "papermill": {
     "duration": 0.043412,
     "end_time": "2024-10-09T09:57:43.800223",
     "exception": false,
     "start_time": "2024-10-09T09:57:43.756811",
     "status": "completed"
    },
    "tags": []
   },
   "outputs": [
    {
     "data": {
      "text/plain": [
       "array([135, 171, 207])"
      ]
     },
     "execution_count": 47,
     "metadata": {},
     "output_type": "execute_result"
    }
   ],
   "source": [
    "np.sum(b,axis=1)"
   ]
  },
  {
   "cell_type": "markdown",
   "id": "23a2de47",
   "metadata": {
    "papermill": {
     "duration": 0.031959,
     "end_time": "2024-10-09T09:57:43.864602",
     "exception": false,
     "start_time": "2024-10-09T09:57:43.832643",
     "status": "completed"
    },
    "tags": []
   },
   "source": [
    "***Sum of column***"
   ]
  },
  {
   "cell_type": "code",
   "execution_count": 48,
   "id": "64f3b5ee",
   "metadata": {
    "execution": {
     "iopub.execute_input": "2024-10-09T09:57:43.930990Z",
     "iopub.status.busy": "2024-10-09T09:57:43.930542Z",
     "iopub.status.idle": "2024-10-09T09:57:43.938236Z",
     "shell.execute_reply": "2024-10-09T09:57:43.937179Z"
    },
    "papermill": {
     "duration": 0.043451,
     "end_time": "2024-10-09T09:57:43.940526",
     "exception": false,
     "start_time": "2024-10-09T09:57:43.897075",
     "status": "completed"
    },
    "tags": []
   },
   "outputs": [
    {
     "data": {
      "text/plain": [
       "array([78, 81, 84, 87, 90, 93])"
      ]
     },
     "execution_count": 48,
     "metadata": {},
     "output_type": "execute_result"
    }
   ],
   "source": [
    "np.sum(b,axis=0)"
   ]
  },
  {
   "cell_type": "code",
   "execution_count": 49,
   "id": "f549b439",
   "metadata": {
    "execution": {
     "iopub.execute_input": "2024-10-09T09:57:44.007096Z",
     "iopub.status.busy": "2024-10-09T09:57:44.006180Z",
     "iopub.status.idle": "2024-10-09T09:57:44.013105Z",
     "shell.execute_reply": "2024-10-09T09:57:44.012017Z"
    },
    "papermill": {
     "duration": 0.042549,
     "end_time": "2024-10-09T09:57:44.015366",
     "exception": false,
     "start_time": "2024-10-09T09:57:43.972817",
     "status": "completed"
    },
    "tags": []
   },
   "outputs": [
    {
     "data": {
      "text/plain": [
       "array([[20, 21, 22, 23, 24, 25],\n",
       "       [26, 27, 28, 29, 30, 31],\n",
       "       [32, 33, 34, 35, 36, 37]])"
      ]
     },
     "execution_count": 49,
     "metadata": {},
     "output_type": "execute_result"
    }
   ],
   "source": [
    "b"
   ]
  },
  {
   "cell_type": "code",
   "execution_count": 50,
   "id": "7add3851",
   "metadata": {
    "execution": {
     "iopub.execute_input": "2024-10-09T09:57:44.083104Z",
     "iopub.status.busy": "2024-10-09T09:57:44.082383Z",
     "iopub.status.idle": "2024-10-09T09:57:44.089460Z",
     "shell.execute_reply": "2024-10-09T09:57:44.088371Z"
    },
    "papermill": {
     "duration": 0.043741,
     "end_time": "2024-10-09T09:57:44.092154",
     "exception": false,
     "start_time": "2024-10-09T09:57:44.048413",
     "status": "completed"
    },
    "tags": []
   },
   "outputs": [
    {
     "data": {
      "text/plain": [
       "28.5"
      ]
     },
     "execution_count": 50,
     "metadata": {},
     "output_type": "execute_result"
    }
   ],
   "source": [
    "np.mean(b)"
   ]
  },
  {
   "cell_type": "code",
   "execution_count": 51,
   "id": "3b463159",
   "metadata": {
    "execution": {
     "iopub.execute_input": "2024-10-09T09:57:44.160929Z",
     "iopub.status.busy": "2024-10-09T09:57:44.159951Z",
     "iopub.status.idle": "2024-10-09T09:57:44.167383Z",
     "shell.execute_reply": "2024-10-09T09:57:44.166368Z"
    },
    "papermill": {
     "duration": 0.0446,
     "end_time": "2024-10-09T09:57:44.169673",
     "exception": false,
     "start_time": "2024-10-09T09:57:44.125073",
     "status": "completed"
    },
    "tags": []
   },
   "outputs": [
    {
     "data": {
      "text/plain": [
       "array([[4.47213595, 4.58257569, 4.69041576, 4.79583152, 4.89897949,\n",
       "        5.        ],\n",
       "       [5.09901951, 5.19615242, 5.29150262, 5.38516481, 5.47722558,\n",
       "        5.56776436],\n",
       "       [5.65685425, 5.74456265, 5.83095189, 5.91607978, 6.        ,\n",
       "        6.08276253]])"
      ]
     },
     "execution_count": 51,
     "metadata": {},
     "output_type": "execute_result"
    }
   ],
   "source": [
    "np.sqrt(b)"
   ]
  },
  {
   "cell_type": "code",
   "execution_count": 52,
   "id": "8d8128d1",
   "metadata": {
    "execution": {
     "iopub.execute_input": "2024-10-09T09:57:44.237784Z",
     "iopub.status.busy": "2024-10-09T09:57:44.236785Z",
     "iopub.status.idle": "2024-10-09T09:57:44.244677Z",
     "shell.execute_reply": "2024-10-09T09:57:44.243655Z"
    },
    "papermill": {
     "duration": 0.044233,
     "end_time": "2024-10-09T09:57:44.247059",
     "exception": false,
     "start_time": "2024-10-09T09:57:44.202826",
     "status": "completed"
    },
    "tags": []
   },
   "outputs": [
    {
     "data": {
      "text/plain": [
       "5.188127472091127"
      ]
     },
     "execution_count": 52,
     "metadata": {},
     "output_type": "execute_result"
    }
   ],
   "source": [
    "np.std(b)"
   ]
  },
  {
   "cell_type": "code",
   "execution_count": 53,
   "id": "b8212b6a",
   "metadata": {
    "execution": {
     "iopub.execute_input": "2024-10-09T09:57:44.316331Z",
     "iopub.status.busy": "2024-10-09T09:57:44.315896Z",
     "iopub.status.idle": "2024-10-09T09:57:44.323164Z",
     "shell.execute_reply": "2024-10-09T09:57:44.322193Z"
    },
    "papermill": {
     "duration": 0.044173,
     "end_time": "2024-10-09T09:57:44.325460",
     "exception": false,
     "start_time": "2024-10-09T09:57:44.281287",
     "status": "completed"
    },
    "tags": []
   },
   "outputs": [
    {
     "data": {
      "text/plain": [
       "array([[2.99573227, 3.04452244, 3.09104245, 3.13549422, 3.17805383,\n",
       "        3.21887582],\n",
       "       [3.25809654, 3.29583687, 3.33220451, 3.36729583, 3.40119738,\n",
       "        3.4339872 ],\n",
       "       [3.4657359 , 3.49650756, 3.52636052, 3.55534806, 3.58351894,\n",
       "        3.61091791]])"
      ]
     },
     "execution_count": 53,
     "metadata": {},
     "output_type": "execute_result"
    }
   ],
   "source": [
    "np.log(b)"
   ]
  },
  {
   "cell_type": "markdown",
   "id": "30140a0d",
   "metadata": {
    "papermill": {
     "duration": 0.032884,
     "end_time": "2024-10-09T09:57:44.391537",
     "exception": false,
     "start_time": "2024-10-09T09:57:44.358653",
     "status": "completed"
    },
    "tags": []
   },
   "source": [
    "***Part-6***"
   ]
  },
  {
   "cell_type": "code",
   "execution_count": 54,
   "id": "095e7abc",
   "metadata": {
    "execution": {
     "iopub.execute_input": "2024-10-09T09:57:44.459364Z",
     "iopub.status.busy": "2024-10-09T09:57:44.458640Z",
     "iopub.status.idle": "2024-10-09T09:57:44.464096Z",
     "shell.execute_reply": "2024-10-09T09:57:44.463059Z"
    },
    "papermill": {
     "duration": 0.042256,
     "end_time": "2024-10-09T09:57:44.466434",
     "exception": false,
     "start_time": "2024-10-09T09:57:44.424178",
     "status": "completed"
    },
    "tags": []
   },
   "outputs": [],
   "source": [
    "import matplotlib.pyplot as plt\n",
    "plt.style.use('dark_background')"
   ]
  },
  {
   "cell_type": "code",
   "execution_count": 55,
   "id": "2e59994b",
   "metadata": {
    "execution": {
     "iopub.execute_input": "2024-10-09T09:57:44.533794Z",
     "iopub.status.busy": "2024-10-09T09:57:44.532917Z",
     "iopub.status.idle": "2024-10-09T09:57:44.537881Z",
     "shell.execute_reply": "2024-10-09T09:57:44.536900Z"
    },
    "papermill": {
     "duration": 0.041241,
     "end_time": "2024-10-09T09:57:44.540323",
     "exception": false,
     "start_time": "2024-10-09T09:57:44.499082",
     "status": "completed"
    },
    "tags": []
   },
   "outputs": [],
   "source": [
    "import numpy as np"
   ]
  },
  {
   "cell_type": "code",
   "execution_count": 56,
   "id": "3b0c937b",
   "metadata": {
    "execution": {
     "iopub.execute_input": "2024-10-09T09:57:44.608525Z",
     "iopub.status.busy": "2024-10-09T09:57:44.607792Z",
     "iopub.status.idle": "2024-10-09T09:57:44.614201Z",
     "shell.execute_reply": "2024-10-09T09:57:44.613214Z"
    },
    "papermill": {
     "duration": 0.042928,
     "end_time": "2024-10-09T09:57:44.616712",
     "exception": false,
     "start_time": "2024-10-09T09:57:44.573784",
     "status": "completed"
    },
    "tags": []
   },
   "outputs": [
    {
     "data": {
      "text/plain": [
       "3.141592653589793"
      ]
     },
     "execution_count": 56,
     "metadata": {},
     "output_type": "execute_result"
    }
   ],
   "source": [
    "np.pi"
   ]
  },
  {
   "cell_type": "code",
   "execution_count": 57,
   "id": "d3b9d998",
   "metadata": {
    "execution": {
     "iopub.execute_input": "2024-10-09T09:57:44.689932Z",
     "iopub.status.busy": "2024-10-09T09:57:44.688897Z",
     "iopub.status.idle": "2024-10-09T09:57:44.699164Z",
     "shell.execute_reply": "2024-10-09T09:57:44.697786Z"
    },
    "papermill": {
     "duration": 0.052019,
     "end_time": "2024-10-09T09:57:44.701966",
     "exception": false,
     "start_time": "2024-10-09T09:57:44.649947",
     "status": "completed"
    },
    "tags": []
   },
   "outputs": [
    {
     "data": {
      "text/plain": [
       "1.0"
      ]
     },
     "execution_count": 57,
     "metadata": {},
     "output_type": "execute_result"
    }
   ],
   "source": [
    "np.sin(np.pi/2)"
   ]
  },
  {
   "cell_type": "code",
   "execution_count": 58,
   "id": "1398770c",
   "metadata": {
    "execution": {
     "iopub.execute_input": "2024-10-09T09:57:44.778018Z",
     "iopub.status.busy": "2024-10-09T09:57:44.777610Z",
     "iopub.status.idle": "2024-10-09T09:57:44.784679Z",
     "shell.execute_reply": "2024-10-09T09:57:44.783679Z"
    },
    "papermill": {
     "duration": 0.044035,
     "end_time": "2024-10-09T09:57:44.786994",
     "exception": false,
     "start_time": "2024-10-09T09:57:44.742959",
     "status": "completed"
    },
    "tags": []
   },
   "outputs": [
    {
     "data": {
      "text/plain": [
       "0.49999999999999994"
      ]
     },
     "execution_count": 58,
     "metadata": {},
     "output_type": "execute_result"
    }
   ],
   "source": [
    "np.sin(np.pi/6)"
   ]
  },
  {
   "cell_type": "code",
   "execution_count": 59,
   "id": "bac8dcc9",
   "metadata": {
    "execution": {
     "iopub.execute_input": "2024-10-09T09:57:44.880688Z",
     "iopub.status.busy": "2024-10-09T09:57:44.880168Z",
     "iopub.status.idle": "2024-10-09T09:57:44.889774Z",
     "shell.execute_reply": "2024-10-09T09:57:44.888415Z"
    },
    "papermill": {
     "duration": 0.065646,
     "end_time": "2024-10-09T09:57:44.892895",
     "exception": false,
     "start_time": "2024-10-09T09:57:44.827249",
     "status": "completed"
    },
    "tags": []
   },
   "outputs": [
    {
     "data": {
      "text/plain": [
       "6.123233995736766e-17"
      ]
     },
     "execution_count": 59,
     "metadata": {},
     "output_type": "execute_result"
    }
   ],
   "source": [
    "np.cos(np.pi/2)"
   ]
  },
  {
   "cell_type": "code",
   "execution_count": 60,
   "id": "2a5a3bfb",
   "metadata": {
    "execution": {
     "iopub.execute_input": "2024-10-09T09:57:44.971442Z",
     "iopub.status.busy": "2024-10-09T09:57:44.971026Z",
     "iopub.status.idle": "2024-10-09T09:57:44.977760Z",
     "shell.execute_reply": "2024-10-09T09:57:44.976807Z"
    },
    "papermill": {
     "duration": 0.04437,
     "end_time": "2024-10-09T09:57:44.980147",
     "exception": false,
     "start_time": "2024-10-09T09:57:44.935777",
     "status": "completed"
    },
    "tags": []
   },
   "outputs": [
    {
     "data": {
      "text/plain": [
       "0.0"
      ]
     },
     "execution_count": 60,
     "metadata": {},
     "output_type": "execute_result"
    }
   ],
   "source": [
    "np.tan(0)"
   ]
  },
  {
   "cell_type": "markdown",
   "id": "c70f1387",
   "metadata": {
    "papermill": {
     "duration": 0.034682,
     "end_time": "2024-10-09T09:57:45.053118",
     "exception": false,
     "start_time": "2024-10-09T09:57:45.018436",
     "status": "completed"
    },
    "tags": []
   },
   "source": [
    "***Using matplotlib with Numpy***"
   ]
  },
  {
   "cell_type": "code",
   "execution_count": 61,
   "id": "e28ca213",
   "metadata": {
    "execution": {
     "iopub.execute_input": "2024-10-09T09:57:45.124571Z",
     "iopub.status.busy": "2024-10-09T09:57:45.124128Z",
     "iopub.status.idle": "2024-10-09T09:57:45.368583Z",
     "shell.execute_reply": "2024-10-09T09:57:45.367470Z"
    },
    "papermill": {
     "duration": 0.281398,
     "end_time": "2024-10-09T09:57:45.370927",
     "exception": false,
     "start_time": "2024-10-09T09:57:45.089529",
     "status": "completed"
    },
    "tags": []
   },
   "outputs": [
    {
     "data": {
      "image/png": "[encoded data removed]",
      "text/plain": [
       "<Figure size 400x400 with 1 Axes>"
      ]
     },
     "metadata": {},
     "output_type": "display_data"
    }
   ],
   "source": [
    "import matplotlib.pyplot as plt\n",
    "import numpy as np\n",
    "x=np.arange(1,11)\n",
    "y=np.arange(10,110,10)\n",
    "plt.figure(figsize=(4,4))\n",
    "plt.plot(x,y,'b--')\n",
    "plt.show()"
   ]
  },
  {
   "cell_type": "markdown",
   "id": "a0bd6651",
   "metadata": {
    "papermill": {
     "duration": 0.033993,
     "end_time": "2024-10-09T09:57:45.439348",
     "exception": false,
     "start_time": "2024-10-09T09:57:45.405355",
     "status": "completed"
    },
    "tags": []
   },
   "source": [
    "***Geometric curves***"
   ]
  },
  {
   "cell_type": "markdown",
   "id": "badf8e19",
   "metadata": {
    "papermill": {
     "duration": 0.033907,
     "end_time": "2024-10-09T09:57:45.507462",
     "exception": false,
     "start_time": "2024-10-09T09:57:45.473555",
     "status": "completed"
    },
    "tags": []
   },
   "source": [
    "**Sine Curve**"
   ]
  },
  {
   "cell_type": "code",
   "execution_count": 62,
   "id": "b6b79ef4",
   "metadata": {
    "execution": {
     "iopub.execute_input": "2024-10-09T09:57:45.578593Z",
     "iopub.status.busy": "2024-10-09T09:57:45.577765Z",
     "iopub.status.idle": "2024-10-09T09:57:45.881249Z",
     "shell.execute_reply": "2024-10-09T09:57:45.880031Z"
    },
    "papermill": {
     "duration": 0.341508,
     "end_time": "2024-10-09T09:57:45.883624",
     "exception": false,
     "start_time": "2024-10-09T09:57:45.542116",
     "status": "completed"
    },
    "tags": []
   },
   "outputs": [
    {
     "name": "stdout",
     "output_type": "stream",
     "text": [
      "[0.  0.1 0.2 0.3 0.4 0.5 0.6 0.7 0.8 0.9 1.  1.1 1.2 1.3 1.4 1.5 1.6 1.7\n",
      " 1.8 1.9 2.  2.1 2.2 2.3 2.4 2.5 2.6 2.7 2.8 2.9 3.  3.1 3.2 3.3 3.4 3.5\n",
      " 3.6 3.7 3.8 3.9 4.  4.1 4.2 4.3 4.4 4.5 4.6 4.7 4.8 4.9 5.  5.1 5.2 5.3\n",
      " 5.4 5.5 5.6 5.7 5.8 5.9 6.  6.1 6.2]\n",
      "[ 0.          0.09983342  0.19866933  0.29552021  0.38941834  0.47942554\n",
      "  0.56464247  0.64421769  0.71735609  0.78332691  0.84147098  0.89120736\n",
      "  0.93203909  0.96355819  0.98544973  0.99749499  0.9995736   0.99166481\n",
      "  0.97384763  0.94630009  0.90929743  0.86320937  0.8084964   0.74570521\n",
      "  0.67546318  0.59847214  0.51550137  0.42737988  0.33498815  0.23924933\n",
      "  0.14112001  0.04158066 -0.05837414 -0.15774569 -0.2555411  -0.35078323\n",
      " -0.44252044 -0.52983614 -0.61185789 -0.68776616 -0.7568025  -0.81827711\n",
      " -0.87157577 -0.91616594 -0.95160207 -0.97753012 -0.993691   -0.99992326\n",
      " -0.99616461 -0.98245261 -0.95892427 -0.92581468 -0.88345466 -0.83226744\n",
      " -0.77276449 -0.70554033 -0.63126664 -0.55068554 -0.46460218 -0.37387666\n",
      " -0.2794155  -0.1821625  -0.0830894 ]\n"
     ]
    },
    {
     "data": {
      "image/png": "[encoded data removed]",
      "text/plain": [
       "<Figure size 400x400 with 1 Axes>"
      ]
     },
     "metadata": {},
     "output_type": "display_data"
    }
   ],
   "source": [
    "import numpy as np\n",
    "import matplotlib.pyplot as plt\n",
    "x_sin=np.arange(0,2*np.pi,0.1)\n",
    "y_sin=np.sin(x_sin)\n",
    "print(x_sin)\n",
    "print(y_sin)\n",
    "\n",
    "plt.figure(figsize=(4,4))\n",
    "plt.plot(x_sin,y_sin,'r--')\n",
    "plt.title(\"Sin Curve\")\n",
    "plt.show()"
   ]
  },
  {
   "cell_type": "markdown",
   "id": "eccf672a",
   "metadata": {
    "papermill": {
     "duration": 0.035528,
     "end_time": "2024-10-09T09:57:45.954167",
     "exception": false,
     "start_time": "2024-10-09T09:57:45.918639",
     "status": "completed"
    },
    "tags": []
   },
   "source": [
    "**Cos Curve**"
   ]
  },
  {
   "cell_type": "code",
   "execution_count": 63,
   "id": "82b0912e",
   "metadata": {
    "execution": {
     "iopub.execute_input": "2024-10-09T09:57:46.025517Z",
     "iopub.status.busy": "2024-10-09T09:57:46.025096Z",
     "iopub.status.idle": "2024-10-09T09:57:46.321697Z",
     "shell.execute_reply": "2024-10-09T09:57:46.320591Z"
    },
    "papermill": {
     "duration": 0.335465,
     "end_time": "2024-10-09T09:57:46.324351",
     "exception": false,
     "start_time": "2024-10-09T09:57:45.988886",
     "status": "completed"
    },
    "tags": []
   },
   "outputs": [
    {
     "name": "stdout",
     "output_type": "stream",
     "text": [
      "[0.  0.1 0.2 0.3 0.4 0.5 0.6 0.7 0.8 0.9 1.  1.1 1.2 1.3 1.4 1.5 1.6 1.7\n",
      " 1.8 1.9 2.  2.1 2.2 2.3 2.4 2.5 2.6 2.7 2.8 2.9 3.  3.1 3.2 3.3 3.4 3.5\n",
      " 3.6 3.7 3.8 3.9 4.  4.1 4.2 4.3 4.4 4.5 4.6 4.7 4.8 4.9 5.  5.1 5.2 5.3\n",
      " 5.4 5.5 5.6 5.7 5.8 5.9 6.  6.1 6.2]\n",
      "[ 1.          0.99500417  0.98006658  0.95533649  0.92106099  0.87758256\n",
      "  0.82533561  0.76484219  0.69670671  0.62160997  0.54030231  0.45359612\n",
      "  0.36235775  0.26749883  0.16996714  0.0707372  -0.02919952 -0.12884449\n",
      " -0.22720209 -0.32328957 -0.41614684 -0.5048461  -0.58850112 -0.66627602\n",
      " -0.73739372 -0.80114362 -0.85688875 -0.90407214 -0.94222234 -0.97095817\n",
      " -0.9899925  -0.99913515 -0.99829478 -0.98747977 -0.96679819 -0.93645669\n",
      " -0.89675842 -0.84810003 -0.79096771 -0.7259323  -0.65364362 -0.57482395\n",
      " -0.49026082 -0.40079917 -0.30733287 -0.2107958  -0.11215253 -0.01238866\n",
      "  0.08749898  0.18651237  0.28366219  0.37797774  0.46851667  0.55437434\n",
      "  0.63469288  0.70866977  0.77556588  0.83471278  0.88551952  0.92747843\n",
      "  0.96017029  0.98326844  0.9965421 ]\n"
     ]
    },
    {
     "data": {
      "image/png": "[encoded data removed]",
      "text/plain": [
       "<Figure size 400x400 with 1 Axes>"
      ]
     },
     "metadata": {},
     "output_type": "display_data"
    }
   ],
   "source": [
    "import numpy as np\n",
    "import matplotlib.pyplot as plt\n",
    "x_cos=np.arange(0,2*np.pi,0.1)\n",
    "y_cos=np.cos(x_cos)\n",
    "print(x_cos)\n",
    "print(y_cos)\n",
    "\n",
    "plt.figure(figsize=(4,4))\n",
    "plt.plot(x_cos,y_cos)\n",
    "plt.title(\"Cos Curve\")\n",
    "plt.show()"
   ]
  },
  {
   "cell_type": "markdown",
   "id": "4cc74f3d",
   "metadata": {
    "papermill": {
     "duration": 0.034992,
     "end_time": "2024-10-09T09:57:46.395460",
     "exception": false,
     "start_time": "2024-10-09T09:57:46.360468",
     "status": "completed"
    },
    "tags": []
   },
   "source": [
    "Tan curve"
   ]
  },
  {
   "cell_type": "code",
   "execution_count": 64,
   "id": "551a30ce",
   "metadata": {
    "execution": {
     "iopub.execute_input": "2024-10-09T09:57:46.468281Z",
     "iopub.status.busy": "2024-10-09T09:57:46.467606Z",
     "iopub.status.idle": "2024-10-09T09:57:46.734466Z",
     "shell.execute_reply": "2024-10-09T09:57:46.733307Z"
    },
    "papermill": {
     "duration": 0.306283,
     "end_time": "2024-10-09T09:57:46.736989",
     "exception": false,
     "start_time": "2024-10-09T09:57:46.430706",
     "status": "completed"
    },
    "tags": []
   },
   "outputs": [
    {
     "data": {
      "image/png": "[encoded data removed]",
      "text/plain": [
       "<Figure size 400x400 with 1 Axes>"
      ]
     },
     "metadata": {},
     "output_type": "display_data"
    }
   ],
   "source": [
    "import numpy as np\n",
    "import matplotlib.pyplot as plt\n",
    "x_tan=np.arange(0,2*np.pi,0.1)\n",
    "y_tan=np.tan(x_tan)\n",
    "\n",
    "plt.figure(figsize=(4,4))\n",
    "plt.plot(x_tan,y_tan)\n",
    "plt.title(\"Tan Curve\")\n",
    "plt.show()"
   ]
  },
  {
   "cell_type": "code",
   "execution_count": 65,
   "id": "94039f6e",
   "metadata": {
    "execution": {
     "iopub.execute_input": "2024-10-09T09:57:46.810234Z",
     "iopub.status.busy": "2024-10-09T09:57:46.809794Z",
     "iopub.status.idle": "2024-10-09T09:57:47.006173Z",
     "shell.execute_reply": "2024-10-09T09:57:47.005123Z"
    },
    "papermill": {
     "duration": 0.235603,
     "end_time": "2024-10-09T09:57:47.008522",
     "exception": false,
     "start_time": "2024-10-09T09:57:46.772919",
     "status": "completed"
    },
    "tags": []
   },
   "outputs": [
    {
     "name": "stderr",
     "output_type": "stream",
     "text": [
      "/tmp/ipykernel_17/2289001761.py:4: RuntimeWarning: divide by zero encountered in divide\n",
      "  y_cot=1/np.tan(x_cot)\n"
     ]
    },
    {
     "data": {
      "image/png": "[encoded data removed]",
      "text/plain": [
       "<Figure size 400x400 with 1 Axes>"
      ]
     },
     "metadata": {},
     "output_type": "display_data"
    }
   ],
   "source": [
    "import numpy as np\n",
    "import matplotlib.pyplot as plt\n",
    "x_cot=np.arange(0,2*np.pi,0.1)\n",
    "y_cot=1/np.tan(x_cot)\n",
    "\n",
    "plt.figure(figsize=(4,4))\n",
    "plt.plot(x_cot,y_cot)\n",
    "plt.title(\"Cot Curve\")\n",
    "plt.show()"
   ]
  },
  {
   "cell_type": "markdown",
   "id": "50a0cdeb",
   "metadata": {
    "papermill": {
     "duration": 0.035979,
     "end_time": "2024-10-09T09:57:47.080906",
     "exception": false,
     "start_time": "2024-10-09T09:57:47.044927",
     "status": "completed"
    },
    "tags": []
   },
   "source": [
    "***SubPlot***"
   ]
  },
  {
   "cell_type": "code",
   "execution_count": 66,
   "id": "39fd4b29",
   "metadata": {
    "execution": {
     "iopub.execute_input": "2024-10-09T09:57:47.155614Z",
     "iopub.status.busy": "2024-10-09T09:57:47.154584Z",
     "iopub.status.idle": "2024-10-09T09:57:47.807054Z",
     "shell.execute_reply": "2024-10-09T09:57:47.805950Z"
    },
    "papermill": {
     "duration": 0.692522,
     "end_time": "2024-10-09T09:57:47.809591",
     "exception": false,
     "start_time": "2024-10-09T09:57:47.117069",
     "status": "completed"
    },
    "tags": []
   },
   "outputs": [
    {
     "data": {
      "image/png": "[encoded data removed]",
      "text/plain": [
       "<Figure size 600x600 with 4 Axes>"
      ]
     },
     "metadata": {},
     "output_type": "display_data"
    }
   ],
   "source": [
    "import numpy as np\n",
    "import matplotlib.pyplot as plt\n",
    "\n",
    "plt.figure(figsize=(6,6))\n",
    "plt.subplot(2,2,1)\n",
    "plt.plot(x_sin,y_sin,'r')\n",
    "plt.title(\"Sin curve\")\n",
    "\n",
    "plt.subplot(2,2,2)\n",
    "plt.plot(x_cos,y_cos,'b')\n",
    "plt.title(\"Cos curve\")\n",
    "\n",
    "plt.subplot(2,2,3)\n",
    "plt.plot(x_tan,y_tan,'g')\n",
    "plt.title(\"Tan curve\")\n",
    "\n",
    "plt.subplot(2,2,4)\n",
    "plt.plot(x_cot,y_cot,'y')\n",
    "plt.title(\"Cot curve\")\n",
    "\n",
    "plt.show()"
   ]
  },
  {
   "cell_type": "markdown",
   "id": "1511f7af",
   "metadata": {
    "papermill": {
     "duration": 0.03652,
     "end_time": "2024-10-09T09:57:47.883412",
     "exception": false,
     "start_time": "2024-10-09T09:57:47.846892",
     "status": "completed"
    },
    "tags": []
   },
   "source": [
    "***Part-7***"
   ]
  },
  {
   "cell_type": "code",
   "execution_count": 67,
   "id": "91df2c3a",
   "metadata": {
    "execution": {
     "iopub.execute_input": "2024-10-09T09:57:47.959390Z",
     "iopub.status.busy": "2024-10-09T09:57:47.958410Z",
     "iopub.status.idle": "2024-10-09T09:57:47.965856Z",
     "shell.execute_reply": "2024-10-09T09:57:47.964823Z"
    },
    "papermill": {
     "duration": 0.048282,
     "end_time": "2024-10-09T09:57:47.968473",
     "exception": false,
     "start_time": "2024-10-09T09:57:47.920191",
     "status": "completed"
    },
    "tags": []
   },
   "outputs": [
    {
     "data": {
      "text/plain": [
       "array([0.20354151, 0.9433001 ])"
      ]
     },
     "execution_count": 67,
     "metadata": {},
     "output_type": "execute_result"
    }
   ],
   "source": [
    "np.random.random(2)"
   ]
  },
  {
   "cell_type": "code",
   "execution_count": 68,
   "id": "dbbd0f69",
   "metadata": {
    "execution": {
     "iopub.execute_input": "2024-10-09T09:57:48.043921Z",
     "iopub.status.busy": "2024-10-09T09:57:48.043505Z",
     "iopub.status.idle": "2024-10-09T09:57:48.051218Z",
     "shell.execute_reply": "2024-10-09T09:57:48.050135Z"
    },
    "papermill": {
     "duration": 0.048383,
     "end_time": "2024-10-09T09:57:48.053550",
     "exception": false,
     "start_time": "2024-10-09T09:57:48.005167",
     "status": "completed"
    },
    "tags": []
   },
   "outputs": [
    {
     "data": {
      "text/plain": [
       "array([[0.91163229, 0.66451656],\n",
       "       [0.63534846, 0.97403169]])"
      ]
     },
     "execution_count": 68,
     "metadata": {},
     "output_type": "execute_result"
    }
   ],
   "source": [
    "import numpy as np\n",
    "np.random.random((2,2))"
   ]
  },
  {
   "cell_type": "code",
   "execution_count": 69,
   "id": "bef7f9fa",
   "metadata": {
    "execution": {
     "iopub.execute_input": "2024-10-09T09:57:48.129054Z",
     "iopub.status.busy": "2024-10-09T09:57:48.128576Z",
     "iopub.status.idle": "2024-10-09T09:57:48.135982Z",
     "shell.execute_reply": "2024-10-09T09:57:48.134881Z"
    },
    "papermill": {
     "duration": 0.047822,
     "end_time": "2024-10-09T09:57:48.138231",
     "exception": false,
     "start_time": "2024-10-09T09:57:48.090409",
     "status": "completed"
    },
    "tags": []
   },
   "outputs": [
    {
     "data": {
      "text/plain": [
       "1"
      ]
     },
     "execution_count": 69,
     "metadata": {},
     "output_type": "execute_result"
    }
   ],
   "source": [
    "import numpy as np\n",
    "np.random.randint(1,10)"
   ]
  },
  {
   "cell_type": "code",
   "execution_count": 70,
   "id": "f961f0fd",
   "metadata": {
    "execution": {
     "iopub.execute_input": "2024-10-09T09:57:48.214750Z",
     "iopub.status.busy": "2024-10-09T09:57:48.213696Z",
     "iopub.status.idle": "2024-10-09T09:57:48.221463Z",
     "shell.execute_reply": "2024-10-09T09:57:48.220402Z"
    },
    "papermill": {
     "duration": 0.047929,
     "end_time": "2024-10-09T09:57:48.223833",
     "exception": false,
     "start_time": "2024-10-09T09:57:48.175904",
     "status": "completed"
    },
    "tags": []
   },
   "outputs": [
    {
     "data": {
      "text/plain": [
       "array([[6, 1],\n",
       "       [1, 8]])"
      ]
     },
     "execution_count": 70,
     "metadata": {},
     "output_type": "execute_result"
    }
   ],
   "source": [
    "np.random.randint(1,10,(2,2))"
   ]
  },
  {
   "cell_type": "code",
   "execution_count": 71,
   "id": "938546fe",
   "metadata": {
    "execution": {
     "iopub.execute_input": "2024-10-09T09:57:48.301501Z",
     "iopub.status.busy": "2024-10-09T09:57:48.301062Z",
     "iopub.status.idle": "2024-10-09T09:57:48.309293Z",
     "shell.execute_reply": "2024-10-09T09:57:48.307963Z"
    },
    "papermill": {
     "duration": 0.050011,
     "end_time": "2024-10-09T09:57:48.311739",
     "exception": false,
     "start_time": "2024-10-09T09:57:48.261728",
     "status": "completed"
    },
    "tags": []
   },
   "outputs": [
    {
     "data": {
      "text/plain": [
       "array([[0.99486861, 0.93493315],\n",
       "       [0.56627088, 0.85546863]])"
      ]
     },
     "execution_count": 71,
     "metadata": {},
     "output_type": "execute_result"
    }
   ],
   "source": [
    "np.random.rand(2,2)"
   ]
  },
  {
   "cell_type": "code",
   "execution_count": 72,
   "id": "ee755b1a",
   "metadata": {
    "execution": {
     "iopub.execute_input": "2024-10-09T09:57:48.389358Z",
     "iopub.status.busy": "2024-10-09T09:57:48.388912Z",
     "iopub.status.idle": "2024-10-09T09:57:48.396392Z",
     "shell.execute_reply": "2024-10-09T09:57:48.395343Z"
    },
    "papermill": {
     "duration": 0.049111,
     "end_time": "2024-10-09T09:57:48.398831",
     "exception": false,
     "start_time": "2024-10-09T09:57:48.349720",
     "status": "completed"
    },
    "tags": []
   },
   "outputs": [
    {
     "data": {
      "text/plain": [
       "array([[ 0.31281453, -1.28494975],\n",
       "       [ 0.51874054, -0.78587421]])"
      ]
     },
     "execution_count": 72,
     "metadata": {},
     "output_type": "execute_result"
    }
   ],
   "source": [
    "np.random.randn(2,2)"
   ]
  },
  {
   "cell_type": "code",
   "execution_count": 73,
   "id": "58f77037",
   "metadata": {
    "execution": {
     "iopub.execute_input": "2024-10-09T09:57:48.476488Z",
     "iopub.status.busy": "2024-10-09T09:57:48.476083Z",
     "iopub.status.idle": "2024-10-09T09:57:48.485790Z",
     "shell.execute_reply": "2024-10-09T09:57:48.484498Z"
    },
    "papermill": {
     "duration": 0.05157,
     "end_time": "2024-10-09T09:57:48.488549",
     "exception": false,
     "start_time": "2024-10-09T09:57:48.436979",
     "status": "completed"
    },
    "tags": []
   },
   "outputs": [
    {
     "name": "stdout",
     "output_type": "stream",
     "text": [
      "[1 2 3 4 5 6 7 8 9]\n"
     ]
    },
    {
     "data": {
      "text/plain": [
       "4"
      ]
     },
     "execution_count": 73,
     "metadata": {},
     "output_type": "execute_result"
    }
   ],
   "source": [
    "a=np.arange(1,10)\n",
    "print(a)\n",
    "np.random.choice(a)"
   ]
  },
  {
   "cell_type": "markdown",
   "id": "c7dba1f7",
   "metadata": {
    "papermill": {
     "duration": 0.038143,
     "end_time": "2024-10-09T09:57:48.564753",
     "exception": false,
     "start_time": "2024-10-09T09:57:48.526610",
     "status": "completed"
    },
    "tags": []
   },
   "source": [
    "***Part-8***"
   ]
  },
  {
   "cell_type": "markdown",
   "id": "7db39e15",
   "metadata": {
    "papermill": {
     "duration": 0.037696,
     "end_time": "2024-10-09T09:57:48.641369",
     "exception": false,
     "start_time": "2024-10-09T09:57:48.603673",
     "status": "completed"
    },
    "tags": []
   },
   "source": [
    "**Numpy String Operations**"
   ]
  },
  {
   "cell_type": "code",
   "execution_count": 74,
   "id": "914977c7",
   "metadata": {
    "execution": {
     "iopub.execute_input": "2024-10-09T09:57:48.719602Z",
     "iopub.status.busy": "2024-10-09T09:57:48.718761Z",
     "iopub.status.idle": "2024-10-09T09:57:48.723729Z",
     "shell.execute_reply": "2024-10-09T09:57:48.722653Z"
    },
    "papermill": {
     "duration": 0.046626,
     "end_time": "2024-10-09T09:57:48.726094",
     "exception": false,
     "start_time": "2024-10-09T09:57:48.679468",
     "status": "completed"
    },
    "tags": []
   },
   "outputs": [],
   "source": [
    "import numpy as np"
   ]
  },
  {
   "cell_type": "code",
   "execution_count": 75,
   "id": "0380349e",
   "metadata": {
    "execution": {
     "iopub.execute_input": "2024-10-09T09:57:48.807280Z",
     "iopub.status.busy": "2024-10-09T09:57:48.806493Z",
     "iopub.status.idle": "2024-10-09T09:57:48.811509Z",
     "shell.execute_reply": "2024-10-09T09:57:48.810515Z"
    },
    "papermill": {
     "duration": 0.047048,
     "end_time": "2024-10-09T09:57:48.813867",
     "exception": false,
     "start_time": "2024-10-09T09:57:48.766819",
     "status": "completed"
    },
    "tags": []
   },
   "outputs": [],
   "source": [
    "s1='Avison is my name '\n",
    "s2='Iam an indian'"
   ]
  },
  {
   "cell_type": "code",
   "execution_count": 76,
   "id": "31002212",
   "metadata": {
    "execution": {
     "iopub.execute_input": "2024-10-09T09:57:48.892777Z",
     "iopub.status.busy": "2024-10-09T09:57:48.891801Z",
     "iopub.status.idle": "2024-10-09T09:57:48.898914Z",
     "shell.execute_reply": "2024-10-09T09:57:48.897922Z"
    },
    "papermill": {
     "duration": 0.048852,
     "end_time": "2024-10-09T09:57:48.901297",
     "exception": false,
     "start_time": "2024-10-09T09:57:48.852445",
     "status": "completed"
    },
    "tags": []
   },
   "outputs": [
    {
     "data": {
      "text/plain": [
       "array('Avison is my name Iam an indian', dtype='<U31')"
      ]
     },
     "execution_count": 76,
     "metadata": {},
     "output_type": "execute_result"
    }
   ],
   "source": [
    "np.char.add(s1,s2)"
   ]
  },
  {
   "cell_type": "code",
   "execution_count": 77,
   "id": "eba91192",
   "metadata": {
    "execution": {
     "iopub.execute_input": "2024-10-09T09:57:48.980153Z",
     "iopub.status.busy": "2024-10-09T09:57:48.979694Z",
     "iopub.status.idle": "2024-10-09T09:57:48.986600Z",
     "shell.execute_reply": "2024-10-09T09:57:48.985663Z"
    },
    "papermill": {
     "duration": 0.049361,
     "end_time": "2024-10-09T09:57:48.988893",
     "exception": false,
     "start_time": "2024-10-09T09:57:48.939532",
     "status": "completed"
    },
    "tags": []
   },
   "outputs": [
    {
     "data": {
      "text/plain": [
       "array('AVISON IS MY NAME ', dtype='<U18')"
      ]
     },
     "execution_count": 77,
     "metadata": {},
     "output_type": "execute_result"
    }
   ],
   "source": [
    "np.char.upper(s1)"
   ]
  },
  {
   "cell_type": "code",
   "execution_count": 78,
   "id": "9d2b3f75",
   "metadata": {
    "execution": {
     "iopub.execute_input": "2024-10-09T09:57:49.068172Z",
     "iopub.status.busy": "2024-10-09T09:57:49.067692Z",
     "iopub.status.idle": "2024-10-09T09:57:49.075078Z",
     "shell.execute_reply": "2024-10-09T09:57:49.073974Z"
    },
    "papermill": {
     "duration": 0.050045,
     "end_time": "2024-10-09T09:57:49.077462",
     "exception": false,
     "start_time": "2024-10-09T09:57:49.027417",
     "status": "completed"
    },
    "tags": []
   },
   "outputs": [
    {
     "data": {
      "text/plain": [
       "array('avison is my name ', dtype='<U18')"
      ]
     },
     "execution_count": 78,
     "metadata": {},
     "output_type": "execute_result"
    }
   ],
   "source": [
    "np.char.lower(s1)"
   ]
  },
  {
   "cell_type": "code",
   "execution_count": 79,
   "id": "9fadac86",
   "metadata": {
    "execution": {
     "iopub.execute_input": "2024-10-09T09:57:49.158635Z",
     "iopub.status.busy": "2024-10-09T09:57:49.157813Z",
     "iopub.status.idle": "2024-10-09T09:57:49.164944Z",
     "shell.execute_reply": "2024-10-09T09:57:49.163892Z"
    },
    "papermill": {
     "duration": 0.050472,
     "end_time": "2024-10-09T09:57:49.167248",
     "exception": false,
     "start_time": "2024-10-09T09:57:49.116776",
     "status": "completed"
    },
    "tags": []
   },
   "outputs": [
    {
     "data": {
      "text/plain": [
       "array(list(['Avison', 'is', 'my', 'name']), dtype=object)"
      ]
     },
     "execution_count": 79,
     "metadata": {},
     "output_type": "execute_result"
    }
   ],
   "source": [
    "np.char.split(s1)"
   ]
  },
  {
   "cell_type": "code",
   "execution_count": 80,
   "id": "d716f348",
   "metadata": {
    "execution": {
     "iopub.execute_input": "2024-10-09T09:57:49.248968Z",
     "iopub.status.busy": "2024-10-09T09:57:49.247939Z",
     "iopub.status.idle": "2024-10-09T09:57:49.255643Z",
     "shell.execute_reply": "2024-10-09T09:57:49.254508Z"
    },
    "papermill": {
     "duration": 0.051457,
     "end_time": "2024-10-09T09:57:49.258867",
     "exception": false,
     "start_time": "2024-10-09T09:57:49.207410",
     "status": "completed"
    },
    "tags": []
   },
   "outputs": [
    {
     "data": {
      "text/plain": [
       "array('Avison is my surname ', dtype='<U21')"
      ]
     },
     "execution_count": 80,
     "metadata": {},
     "output_type": "execute_result"
    }
   ],
   "source": [
    "np.char.replace(s1,'name','surname')"
   ]
  },
  {
   "cell_type": "code",
   "execution_count": 81,
   "id": "01ed872b",
   "metadata": {
    "execution": {
     "iopub.execute_input": "2024-10-09T09:57:49.342208Z",
     "iopub.status.busy": "2024-10-09T09:57:49.341707Z",
     "iopub.status.idle": "2024-10-09T09:57:49.348264Z",
     "shell.execute_reply": "2024-10-09T09:57:49.346972Z"
    },
    "papermill": {
     "duration": 0.052236,
     "end_time": "2024-10-09T09:57:49.351811",
     "exception": false,
     "start_time": "2024-10-09T09:57:49.299575",
     "status": "completed"
    },
    "tags": []
   },
   "outputs": [
    {
     "name": "stdout",
     "output_type": "stream",
     "text": [
      "*************************************hello**************************************\n"
     ]
    }
   ],
   "source": [
    "print(np.char.center('hello',80,'*'))"
   ]
  },
  {
   "cell_type": "markdown",
   "id": "7f52ffcb",
   "metadata": {
    "papermill": {
     "duration": 0.040836,
     "end_time": "2024-10-09T09:57:49.433217",
     "exception": false,
     "start_time": "2024-10-09T09:57:49.392381",
     "status": "completed"
    },
    "tags": []
   },
   "source": [
    "***End***"
   ]
  }
 ],
 "metadata": {
  "kaggle": {
   "accelerator": "none",
   "dataSources": [],
   "dockerImageVersionId": 30786,
   "isGpuEnabled": false,
   "isInternetEnabled": false,
   "language": "python",
   "sourceType": "notebook"
  },
  "kernelspec": {
   "display_name": "Python 3",
   "language": "python",
   "name": "python3"
  },
  "language_info": {
   "codemirror_mode": {
    "name": "ipython",
    "version": 3
   },
   "file_extension": ".py",
   "mimetype": "text/x-python",
   "name": "python",
   "nbconvert_exporter": "python",
   "pygments_lexer": "ipython3",
   "version": "3.10.14"
  },
  "papermill": {
   "default_parameters": {},
   "duration": 13.74934,
   "end_time": "2024-10-09T09:57:49.995124",
   "environment_variables": {},
   "exception": null,
   "input_path": "__notebook__.ipynb",
   "output_path": "__notebook__.ipynb",
   "parameters": {},
   "start_time": "2024-10-09T09:57:36.245784",
   "version": "2.6.0"
  }
 },
 "nbformat": 4,
 "nbformat_minor": 5
}
